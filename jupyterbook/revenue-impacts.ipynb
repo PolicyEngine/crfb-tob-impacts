{
 "cells": [
  {
   "cell_type": "markdown",
   "metadata": {},
   "source": [
    "# Revenue Impacts\n",
    "\n",
    "This chapter presents the quantitative results of the analysis of seven Social Security benefit taxation reform options. All estimates represent changes in federal tax revenue over the 10-year period 2026-2035. Positive values indicate revenue increases (deficit reducing), while negative values indicate revenue losses (deficit increasing)."
   ]
  },
  {
   "cell_type": "code",
   "execution_count": null,
   "metadata": {
    "tags": [
     "hide-input"
    ]
   },
   "source": "# Import necessary libraries\nimport pandas as pd\nimport plotly.express as px\nimport plotly.graph_objects as go\nimport warnings\nwarnings.filterwarnings('ignore')\n\n# Define PolicyEngine's color palette\nBLACK = \"#000000\"\nBLUE_LIGHT = \"#D8E6F3\"\nBLUE_PRIMARY = \"#2C6496\"\nDARK_BLUE_HOVER = \"#1d3e5e\"\nDARK_GRAY = \"#616161\"\nDARKEST_BLUE = \"#0C1A27\"\nGRAY = \"#808080\"\nLIGHT_GRAY = \"#F2F2F2\"\nMEDIUM_DARK_GRAY = \"#D2D2D2\"\nMEDIUM_LIGHT_GRAY = \"#BDBDBD\"\nWHITE = \"#FFFFFF\"",
   "outputs": []
  },
  {
   "cell_type": "code",
   "execution_count": null,
   "metadata": {
    "tags": [
     "hide-input"
    ]
   },
   "source": [
    "# Load the policy impacts data from CSV\n",
    "df = pd.read_csv(\"../data/policy_impacts.csv\")\n",
    "\n",
    "# Clean up reform names for display\n",
    "reform_name_map = {\n",
    "    \"Full Repeal of Social Security Benefits Taxation\": \"Option 1: Full Repeal\",\n",
    "    \"Taxation of 85% of Social Security Benefits\": \"Option 2: 85% Taxation\",\n",
    "    \"85% Taxation with Permanent Senior Deduction Extension\": \"Option 3: 85% with Senior Deduction\",\n",
    "    \"Social Security Tax Credit System ($500)\": \"Option 4: Tax Credit ($500)\",\n",
    "    \"Roth-Style Swap\": \"Option 5: Roth-Style Swap\",\n",
    "    \"Phased Roth-Style Swap\": \"Option 6: Phased Roth-Style\",\n",
    "    \"Eliminate Bonus Senior Deduction\": \"Option 7: Eliminate Bonus Senior Deduction\"\n",
    "}\n",
    "\n",
    "df['reform_display'] = df['reform_name'].map(reform_name_map)\n",
    "\n",
    "# Convert revenue impact to billions for display\n",
    "df['revenue_impact_billions'] = df['revenue_impact'] / 1e9\n",
    "\n",
    "print(f\"Loaded {len(df)} records from {len(df['reform_name'].unique())} reforms\")\n",
    "print(f\"Years covered: {df['year'].min()}-{df['year'].max()}\")"
   ],
   "outputs": []
  },
  {
   "cell_type": "markdown",
   "metadata": {},
   "source": [
    "## Summary of 10-Year Budgetary Impacts\n",
    "\n",
    "The microsimulation analysis shows the following budgetary impacts across the seven policy options:"
   ]
  },
  {
   "cell_type": "code",
   "execution_count": null,
   "metadata": {
    "tags": [
     "hide-input"
    ]
   },
   "source": [
    "# Calculate 10-year totals for each reform\n",
    "totals = df.groupby(['reform_name', 'reform_display'])['revenue_impact_billions'].sum().reset_index()\n",
    "totals = totals.sort_values('revenue_impact_billions')\n",
    "\n",
    "# Format the display\n",
    "totals['formatted_impact'] = totals['revenue_impact_billions'].apply(lambda x: f\"${x:,.1f}\" if x >= 0 else f\"-${abs(x):,.1f}\")\n",
    "\n",
    "# Display as table\n",
    "summary_table = totals[['reform_display', 'formatted_impact']].rename(columns={\n",
    "    'reform_display': 'Policy Option',\n",
    "    'formatted_impact': '10-Year Impact (Billions)'\n",
    "})\n",
    "\n",
    "from IPython.display import display, HTML\n",
    "html_table = summary_table.to_html(index=False, classes='dataframe', table_id='summary-table')\n",
    "display(HTML(html_table))"
   ],
   "outputs": []
  },
  {
   "cell_type": "markdown",
   "metadata": {},
   "source": [
    "## Year-by-Year Revenue Impact Visualization"
   ]
  },
  {
   "cell_type": "code",
   "execution_count": null,
   "metadata": {
    "tags": [
     "hide-input"
    ]
   },
   "source": [
    "# Create interactive line chart of revenue impacts over time\n",
    "fig = px.line(\n",
    "    df,\n",
    "    x='year',\n",
    "    y='revenue_impact_billions',\n",
    "    color='reform_display',\n",
    "    title='Revenue Impact by Year (2026-2035)<br>All Reform Options',\n",
    "    labels={\n",
    "        'year': 'Year',\n",
    "        'revenue_impact_billions': 'Revenue Impact (Billions $)',\n",
    "        'reform_display': 'Reform Option'\n",
    "    },\n",
    "    color_discrete_sequence=px.colors.qualitative.Set2\n",
    ")\n",
    "\n",
    "# Add zero line\n",
    "fig.add_hline(y=0, line_dash=\"dash\", line_color=\"gray\", opacity=0.5)\n",
    "\n",
    "# Update layout\n",
    "fig.update_layout(\n",
    "    font=dict(family=\"Roboto Serif\"),\n",
    "    yaxis_tickformat=\"$,.0f\",\n",
    "    font_color=BLACK,\n",
    "    margin={\"l\": 50, \"r\": 50, \"b\": 100, \"t\": 100, \"pad\": 4},\n",
    "    hovermode='x unified',\n",
    "    legend=dict(\n",
    "        yanchor=\"top\",\n",
    "        y=0.99,\n",
    "        xanchor=\"left\",\n",
    "        x=0.01\n",
    "    ),\n",
    "    annotations=[\n",
    "        {\n",
    "            \"x\": 1,\n",
    "            \"y\": -0.25,\n",
    "            \"xref\": \"paper\",\n",
    "            \"yref\": \"paper\",\n",
    "            \"text\": \"Source: PolicyEngine US Microsimulation\",\n",
    "            \"showarrow\": False,\n",
    "            \"font\": {\"family\": \"Roboto Serif\", \"size\": 10, \"color\": DARK_GRAY},\n",
    "        }\n",
    "    ],\n",
    ")\n",
    "\n",
    "fig.show()"
   ],
   "outputs": []
  },
  {
   "cell_type": "markdown",
   "metadata": {},
   "source": [
    "## Year-by-Year Net Effect on Tax Revenues (2026-2035)\n",
    "\n",
    "**Net Effect on Tax Revenues by Year (Billions of Dollars)**"
   ]
  },
  {
   "cell_type": "code",
   "execution_count": null,
   "metadata": {
    "tags": [
     "hide-input"
    ]
   },
   "source": [
    "# Create pivot table for year-by-year display\n",
    "pivot = df.pivot_table(\n",
    "    values='revenue_impact_billions',\n",
    "    index='reform_display',\n",
    "    columns='year',\n",
    "    aggfunc='sum'\n",
    ").round(1)\n",
    "\n",
    "# Add 10-year total column\n",
    "pivot['10-Year Total'] = pivot.sum(axis=1).round(1)\n",
    "\n",
    "# Format for display\n",
    "def format_value(x):\n",
    "    if pd.isna(x) or x == 0:\n",
    "        return \"0.0\"\n",
    "    elif x < 0:\n",
    "        return f\"-{abs(x):.1f}\"\n",
    "    else:\n",
    "        return f\"{x:.1f}\"\n",
    "\n",
    "# Apply formatting\n",
    "formatted_pivot = pivot.applymap(format_value)\n",
    "\n",
    "# Make the 10-year total column bold\n",
    "formatted_pivot['10-Year Total'] = formatted_pivot['10-Year Total'].apply(lambda x: f\"**{x}**\")\n",
    "\n",
    "# Display the table\n",
    "display(HTML(formatted_pivot.to_html(classes='dataframe', table_id='yearly-table')))"
   ],
   "outputs": []
  },
  {
   "cell_type": "markdown",
   "metadata": {},
   "source": [
    "## Cumulative Revenue Impact Over Time"
   ]
  },
  {
   "cell_type": "code",
   "execution_count": null,
   "metadata": {
    "tags": [
     "hide-input"
    ]
   },
   "source": [
    "# Calculate cumulative impacts\n",
    "df_sorted = df.sort_values(['reform_name', 'year'])\n",
    "df_sorted['cumulative_impact'] = df_sorted.groupby('reform_name')['revenue_impact_billions'].cumsum()\n",
    "\n",
    "# Create cumulative impact chart\n",
    "fig_cumulative = px.line(\n",
    "    df_sorted,\n",
    "    x='year',\n",
    "    y='cumulative_impact',\n",
    "    color='reform_display',\n",
    "    title='Cumulative Revenue Impact (2026-2035)<br>All Reform Options',\n",
    "    labels={\n",
    "        'year': 'Year',\n",
    "        'cumulative_impact': 'Cumulative Revenue Impact (Billions $)',\n",
    "        'reform_display': 'Reform Option'\n",
    "    },\n",
    "    color_discrete_sequence=px.colors.qualitative.Set2\n",
    ")\n",
    "\n",
    "# Add zero line\n",
    "fig_cumulative.add_hline(y=0, line_dash=\"dash\", line_color=\"gray\", opacity=0.5)\n",
    "\n",
    "# Update layout\n",
    "fig_cumulative.update_layout(\n",
    "    font=dict(family=\"Roboto Serif\"),\n",
    "    yaxis_tickformat=\"$,.0f\",\n",
    "    font_color=BLACK,\n",
    "    margin={\"l\": 50, \"r\": 50, \"b\": 100, \"t\": 100, \"pad\": 4},\n",
    "    hovermode='x unified',\n",
    "    legend=dict(\n",
    "        yanchor=\"top\",\n",
    "        y=0.99,\n",
    "        xanchor=\"left\",\n",
    "        x=0.01\n",
    "    ),\n",
    "    annotations=[\n",
    "        {\n",
    "            \"x\": 1,\n",
    "            \"y\": -0.25,\n",
    "            \"xref\": \"paper\",\n",
    "            \"yref\": \"paper\",\n",
    "            \"text\": \"Source: PolicyEngine US Microsimulation\",\n",
    "            \"showarrow\": False,\n",
    "            \"font\": {\"family\": \"Roboto Serif\", \"size\": 10, \"color\": DARK_GRAY},\n",
    "        }\n",
    "    ],\n",
    ")\n",
    "\n",
    "fig_cumulative.show()"
   ],
   "outputs": []
  },
  {
   "cell_type": "markdown",
   "metadata": {},
   "source": [
    "## Revenue Impact Comparison Bar Chart"
   ]
  },
  {
   "cell_type": "code",
   "execution_count": null,
   "metadata": {
    "tags": [
     "hide-input"
    ]
   },
   "source": [
    "# Create bar chart comparing 10-year totals\n",
    "fig_bar = px.bar(\n",
    "    totals,\n",
    "    x='revenue_impact_billions',\n",
    "    y='reform_display',\n",
    "    orientation='h',\n",
    "    title='10-Year Revenue Impact Comparison<br>All Reform Options (2026-2035)',\n",
    "    labels={\n",
    "        'revenue_impact_billions': 'Revenue Impact (Billions $)',\n",
    "        'reform_display': 'Reform Option'\n",
    "    },\n",
    "    color='revenue_impact_billions',\n",
    "    color_continuous_scale=['#d62728', '#ff7f0e', '#ffff00', '#90EE90', '#2ca02c'],\n",
    "    color_continuous_midpoint=0\n",
    ")\n",
    "\n",
    "# Add vertical line at zero\n",
    "fig_bar.add_vline(x=0, line_dash=\"dash\", line_color=\"black\", opacity=0.5)\n",
    "\n",
    "# Update layout\n",
    "fig_bar.update_layout(\n",
    "    font=dict(family=\"Roboto Serif\"),\n",
    "    xaxis_tickformat=\"$,.0f\",\n",
    "    font_color=BLACK,\n",
    "    margin={\"l\": 150, \"r\": 50, \"b\": 100, \"t\": 100, \"pad\": 4},\n",
    "    showlegend=False,\n",
    "    annotations=[\n",
    "        {\n",
    "            \"x\": 1,\n",
    "            \"y\": -0.25,\n",
    "            \"xref\": \"paper\",\n",
    "            \"yref\": \"paper\",\n",
    "            \"text\": \"Source: PolicyEngine US Microsimulation\",\n",
    "            \"showarrow\": False,\n",
    "            \"font\": {\"family\": \"Roboto Serif\", \"size\": 10, \"color\": DARK_GRAY},\n",
    "        }\n",
    "    ],\n",
    ")\n",
    "\n",
    "# Hide color scale\n",
    "fig_bar.update_coloraxes(showscale=False)\n",
    "\n",
    "fig_bar.show()"
   ],
   "outputs": []
  }
 ],
 "metadata": {
  "kernelspec": {
   "display_name": "Python 3",
   "language": "python",
   "name": "python3"
  },
  "language_info": {
   "codemirror_mode": {
    "name": "ipython",
    "version": 3
   },
   "file_extension": ".py",
   "mimetype": "text/x-python",
   "name": "python",
   "nbconvert_exporter": "python",
   "pygments_lexer": "ipython3",
   "version": "3.13.0"
  }
 },
 "nbformat": 4,
 "nbformat_minor": 4
}