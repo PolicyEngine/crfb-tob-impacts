{
 "cells": [
  {
   "cell_type": "markdown",
   "metadata": {},
   "source": [
    "# Household Impact Analysis\n",
    "\n",
    "This chapter analyzes how each of the seven Social Security taxation reform options affects individual households across different income levels. The analysis shows both the change in net income and comparative baseline vs. reform scenarios for each policy option.\n",
    "\n",
    "## Household Example\n",
    "\n",
    "The household impact analysis uses a representative household with the following characteristics:\n",
    "- Single elderly tax filer\n",
    "- Age 70\n",
    "- Social Security benefits: $30,000 per year\n",
    "- Employment income varying from $0 to $200,000 in $500 increments\n",
    "- Located in Florida (no state income tax)\n",
    "- Standard deduction\n",
    "\n",
    "For each income level and policy option, we calculate:\n",
    "1. **Change in Net Income**: The difference in household net income under the reform versus baseline\n",
    "2. **Baseline vs Reform Comparison**: Total net income under current law versus under each policy reform"
   ]
  },
  {
   "cell_type": "code",
   "execution_count": null,
   "metadata": {
    "execution": {
     "iopub.execute_input": "2025-09-19T20:30:34.736513Z",
     "iopub.status.busy": "2025-09-19T20:30:34.735516Z",
     "iopub.status.idle": "2025-09-19T20:30:58.165022Z",
     "shell.execute_reply": "2025-09-19T20:30:58.164512Z"
    },
    "tags": [
     "hide-input",
     "hide-output"
    ]
   },
   "outputs": [],
   "source": "# Import necessary libraries for visualization\nfrom IPython.display import display, HTML\nimport plotly.express as px\nimport plotly.graph_objects as go\nimport pandas as pd\nimport warnings\nwarnings.filterwarnings('ignore')\n\n# Define PolicyEngine's color palette\nBLACK = \"#000000\"\nBLUE_LIGHT = \"#D8E6F3\"\nBLUE_PRIMARY = \"#2C6496\"\nDARK_BLUE_HOVER = \"#1d3e5e\"\nDARK_GRAY = \"#616161\"\nDARKEST_BLUE = \"#0C1A27\"\nGRAY = \"#808080\"\nLIGHT_GRAY = \"#F2F2F2\"\nMEDIUM_DARK_GRAY = \"#D2D2D2\"\nMEDIUM_LIGHT_GRAY = \"#BDBDBD\"\nWHITE = \"#FFFFFF\"\n\nprint(\"Libraries loaded successfully!\")"
  },
  {
   "cell_type": "code",
   "execution_count": null,
   "metadata": {
    "execution": {
     "iopub.execute_input": "2025-09-19T20:30:58.177135Z",
     "iopub.status.busy": "2025-09-19T20:30:58.177135Z",
     "iopub.status.idle": "2025-09-19T20:30:58.194882Z",
     "shell.execute_reply": "2025-09-19T20:30:58.194882Z"
    },
    "tags": [
     "hide-input",
     "hide-output"
    ]
   },
   "outputs": [],
   "source": "# Load the pre-generated household impact data\nprint(\"Loading household impact data...\")\n\n# Load the data\ncombined_df = pd.read_csv(\"../data/household_impacts.csv\")\n\nprint(f\"Data loaded: {len(combined_df):,} rows\")\nprint(f\"Reforms: {combined_df['reform'].nunique()} options\")\nprint(f\"Years: {sorted(combined_df['year'].unique())}\")"
  },
  {
   "cell_type": "code",
   "source": "# Define visualization functions\ndef create_animated_change_graph(df, reform_name):\n    \"\"\"Create an animated graph showing change in net income across years\"\"\"\n    \n    fig = px.line(\n        df,\n        x=\"employment_income\",\n        y=\"change_in_net_income\",\n        animation_frame=\"year\",\n        color_discrete_sequence=[BLUE_PRIMARY],\n        title=f\"Change in Net Income - {reform_name}<br>Single Elderly Filer with $30,000 in Social Security Benefits\",\n        labels={\n            \"employment_income\": \"Employment Income ($)\",\n            \"change_in_net_income\": \"Change in Net Income ($)\",\n            \"year\": \"Year\"\n        }\n    )\n    \n    fig.update_layout(\n        font=dict(family=\"Roboto Serif\"),\n        xaxis_tickformat=\",\",\n        yaxis_tickformat=\",\",\n        font_color=BLACK,\n        margin={\"l\": 50, \"r\": 50, \"b\": 100, \"t\": 100, \"pad\": 4},\n        annotations=[\n            {\n                \"x\": 1,\n                \"y\": -0.25,\n                \"xref\": \"paper\",\n                \"yref\": \"paper\",\n                \"text\": \"Source: PolicyEngine US\",\n                \"showarrow\": False,\n                \"font\": {\"family\": \"Roboto Serif\", \"size\": 10, \"color\": DARK_GRAY},\n            }\n        ],\n    )\n    \n    # Update animation settings if they exist\n    if hasattr(fig.layout, 'updatemenus') and fig.layout.updatemenus:\n        try:\n            fig.layout.updatemenus[0].buttons[0].args[1][\"frame\"][\"duration\"] = 500\n            fig.layout.updatemenus[0].buttons[0].args[1][\"transition\"][\"duration\"] = 300\n        except (IndexError, KeyError, TypeError):\n            pass  # Animation settings may not exist in all environments\n    \n    return fig\n\ndef create_animated_comparison_graph(df, reform_name):\n    \"\"\"Create an animated graph comparing reform and baseline net income across years\"\"\"\n    \n    # Reshape data for comparison plot\n    df_melted = pd.melt(\n        df,\n        id_vars=[\"employment_income\", \"year\"],\n        value_vars=[\"reform_net_income\", \"baseline_net_income\"],\n        var_name=\"Scenario\",\n        value_name=\"net_income\"\n    )\n    \n    # Clean up scenario names\n    df_melted['Scenario'] = df_melted['Scenario'].replace({\n        'reform_net_income': 'Reform',\n        'baseline_net_income': 'Baseline'\n    })\n    \n    fig = px.line(\n        df_melted,\n        x=\"employment_income\",\n        y=\"net_income\",\n        color=\"Scenario\",\n        animation_frame=\"year\",\n        color_discrete_map={\n            \"Reform\": BLUE_PRIMARY,\n            \"Baseline\": DARK_GRAY\n        },\n        title=f\"Net Income Comparison: Reform vs Baseline - {reform_name}<br>Single Elderly Filer with $30,000 in Social Security Benefits\",\n        labels={\n            \"employment_income\": \"Employment Income ($)\",\n            \"net_income\": \"Net Income ($)\",\n            \"year\": \"Year\"\n        }\n    )\n    \n    fig.update_layout(\n        font=dict(family=\"Roboto Serif\"),\n        xaxis_tickformat=\",\",\n        yaxis_tickformat=\",\",\n        font_color=BLACK,\n        margin={\"l\": 50, \"r\": 50, \"b\": 100, \"t\": 100, \"pad\": 4},\n        legend=dict(\n            yanchor=\"top\",\n            y=0.99,\n            xanchor=\"left\",\n            x=0.01\n        ),\n        annotations=[\n            {\n                \"x\": 1,\n                \"y\": -0.25,\n                \"xref\": \"paper\",\n                \"yref\": \"paper\",\n                \"text\": \"Source: PolicyEngine US\",\n                \"showarrow\": False,\n                \"font\": {\"family\": \"Roboto Serif\", \"size\": 10, \"color\": DARK_GRAY},\n            }\n        ],\n    )\n    \n    # Update animation settings if they exist\n    if hasattr(fig.layout, 'updatemenus') and fig.layout.updatemenus:\n        try:\n            fig.layout.updatemenus[0].buttons[0].args[1][\"frame\"][\"duration\"] = 500\n            fig.layout.updatemenus[0].buttons[0].args[1][\"transition\"][\"duration\"] = 300\n        except (IndexError, KeyError, TypeError):\n            pass  # Animation settings may not exist in all environments\n    \n    return fig\n\nprint(\"Visualization functions defined!\")",
   "metadata": {
    "tags": [
     "hide-input"
    ]
   },
   "execution_count": null,
   "outputs": []
  },
  {
   "cell_type": "markdown",
   "metadata": {},
   "source": [
    "## Option 2: Taxation of 85% of Social Security Benefits\n",
    "\n",
    "This option taxes 85% of Social Security benefits for all recipients, regardless of income level, eliminating the current threshold system."
   ]
  },
  {
   "cell_type": "markdown",
   "metadata": {},
   "source": "## Option 1: Full Repeal of Social Security Benefits Taxation\n\nThis option completely eliminates the taxation of Social Security benefits, returning to the pre-1984 system where benefits were not subject to income tax."
  },
  {
   "cell_type": "code",
   "execution_count": null,
   "metadata": {
    "execution": {
     "iopub.execute_input": "2025-09-19T20:32:01.269584Z",
     "iopub.status.busy": "2025-09-19T20:32:01.269584Z",
     "iopub.status.idle": "2025-09-19T20:32:28.920561Z",
     "shell.execute_reply": "2025-09-19T20:32:28.920561Z"
    },
    "tags": [
     "hide-input"
    ]
   },
   "outputs": [],
   "source": "# Option 1: Full Repeal - Visualization\noption1_df = combined_df[combined_df['reform'] == \"Full Repeal of Social Security Benefits Taxation\"].copy()\n\n# Create and display animated change in net income graph\nfig1_change = create_animated_change_graph(option1_df, \"Option 1: Full Repeal\")\nfig1_change.show()\n\n# Create and display animated comparison graph\nfig1_comparison = create_animated_comparison_graph(option1_df, \"Option 1: Full Repeal\")\nfig1_comparison.show()"
  },
  {
   "cell_type": "code",
   "source": "# Option 2: Taxation of 85% - Visualization\noption2_df = combined_df[combined_df['reform'] == \"Taxation of 85% of Social Security Benefits\"].copy()\n\n# Create and display animated change in net income graph\nfig2_change = create_animated_change_graph(option2_df, \"Option 2: Taxation of 85%\")\nfig2_change.show()\n\n# Create and display animated comparison graph\nfig2_comparison = create_animated_comparison_graph(option2_df, \"Option 2: Taxation of 85%\")\nfig2_comparison.show()",
   "metadata": {
    "tags": [
     "hide-input"
    ]
   },
   "execution_count": null,
   "outputs": []
  },
  {
   "cell_type": "markdown",
   "metadata": {},
   "source": [
    "## Option 4: Social Security Tax Credit System ($500 Credit)\n",
    "\n",
    "This option replaces the senior deduction with a $500 nonrefundable tax credit while taxing 85% of benefits."
   ]
  },
  {
   "cell_type": "code",
   "execution_count": null,
   "metadata": {
    "execution": {
     "iopub.execute_input": "2025-09-19T20:32:28.920561Z",
     "iopub.status.busy": "2025-09-19T20:32:28.920561Z",
     "iopub.status.idle": "2025-09-19T20:32:53.488182Z",
     "shell.execute_reply": "2025-09-19T20:32:53.488182Z"
    },
    "tags": [
     "hide-input"
    ]
   },
   "outputs": [],
   "source": "# Option 3: 85% with Senior Deduction - Visualization\noption3_df = combined_df[combined_df['reform'] == \"85% Taxation with Permanent Senior Deduction Extension\"].copy()\n\n# Create and display animated change in net income graph\nfig3_change = create_animated_change_graph(option3_df, \"Option 3: 85% with Senior Deduction\")\nfig3_change.show()\n\n# Create and display animated comparison graph\nfig3_comparison = create_animated_comparison_graph(option3_df, \"Option 3: 85% with Senior Deduction\")\nfig3_comparison.show()"
  },
  {
   "cell_type": "markdown",
   "source": "## Option 3: 85% Taxation with Permanent Senior Deduction Extension\n\nThis option combines taxation of 85% of benefits with a permanent extension of the senior deduction that would otherwise expire in 2028.",
   "metadata": {}
  },
  {
   "cell_type": "markdown",
   "metadata": {},
   "source": [
    "## Option 5: Roth-Style Swap\n",
    "\n",
    "This option eliminates Social Security benefit taxation while making employer payroll contributions taxable income."
   ]
  },
  {
   "cell_type": "code",
   "execution_count": null,
   "metadata": {
    "execution": {
     "iopub.execute_input": "2025-09-19T20:32:53.490187Z",
     "iopub.status.busy": "2025-09-19T20:32:53.490187Z",
     "iopub.status.idle": "2025-09-19T20:33:18.096533Z",
     "shell.execute_reply": "2025-09-19T20:33:18.096029Z"
    },
    "tags": [
     "hide-input"
    ]
   },
   "outputs": [],
   "source": "# Option 4: Tax Credit System - Visualization\noption4_df = combined_df[combined_df['reform'] == \"Social Security Tax Credit System ($500)\"].copy()\n\n# Create and display animated change in net income graph\nfig4_change = create_animated_change_graph(option4_df, \"Option 4: $500 Tax Credit\")\nfig4_change.show()\n\n# Create and display animated comparison graph\nfig4_comparison = create_animated_comparison_graph(option4_df, \"Option 4: $500 Tax Credit\")\nfig4_comparison.show()"
  },
  {
   "cell_type": "markdown",
   "metadata": {},
   "source": [
    "## Option 6: Phased Roth-Style Swap\n",
    "\n",
    "This option implements a gradual transition to the Roth-style system over multiple years, phasing in employer contribution taxation while phasing out benefit taxation."
   ]
  },
  {
   "cell_type": "code",
   "execution_count": null,
   "metadata": {
    "execution": {
     "iopub.execute_input": "2025-09-19T20:33:18.098012Z",
     "iopub.status.busy": "2025-09-19T20:33:18.098012Z",
     "iopub.status.idle": "2025-09-19T20:33:41.674710Z",
     "shell.execute_reply": "2025-09-19T20:33:41.674710Z"
    },
    "tags": [
     "hide-input"
    ]
   },
   "outputs": [],
   "source": "# Option 5: Roth-Style Swap - Visualization\noption5_df = combined_df[combined_df['reform'] == \"Roth-Style Swap\"].copy()\n\n# Create and display animated change in net income graph\nfig5_change = create_animated_change_graph(option5_df, \"Option 5: Roth-Style Swap\")\nfig5_change.show()\n\n# Create and display animated comparison graph\nfig5_comparison = create_animated_comparison_graph(option5_df, \"Option 5: Roth-Style Swap\")\nfig5_comparison.show()"
  },
  {
   "cell_type": "markdown",
   "metadata": {},
   "source": [
    "## Option 7: Eliminate Bonus Senior Deduction\n",
    "\n",
    "This option eliminates the $6,000 bonus senior deduction from the One Big Beautiful Bill that includes a 6% phase-out beginning at $75k for single filers and $150k for joint filers. Since this deduction expires in 2029, Option 7 only has revenue impact from 2026-2028."
   ]
  },
  {
   "cell_type": "code",
   "source": "# Option 7: Eliminate Senior Deduction - Visualization\noption7_df = combined_df[combined_df['reform'] == \"Eliminate Bonus Senior Deduction\"].copy()\n\n# Create and display animated change in net income graph\nfig7_change = create_animated_change_graph(option7_df, \"Option 7: Eliminate Senior Deduction\")\nfig7_change.show()\n\n# Create and display animated comparison graph\nfig7_comparison = create_animated_comparison_graph(option7_df, \"Option 7: Eliminate Senior Deduction\")\nfig7_comparison.show()",
   "metadata": {
    "tags": [
     "hide-input"
    ]
   },
   "execution_count": null,
   "outputs": []
  },
  {
   "cell_type": "code",
   "execution_count": null,
   "metadata": {
    "cell_metadata": {
     "tags": [
      "hide-input"
     ]
    },
    "execution": {
     "iopub.execute_input": "2025-09-19T20:33:41.674710Z",
     "iopub.status.busy": "2025-09-19T20:33:41.674710Z",
     "iopub.status.idle": "2025-09-19T20:34:06.013728Z",
     "shell.execute_reply": "2025-09-19T20:34:06.013728Z"
    },
    "mystnb": {
     "tags": [
      "hide-input"
     ]
    },
    "tags": [
     "hide-input"
    ]
   },
   "outputs": [],
   "source": "# Option 6: Phased Roth-Style - Visualization\noption6_df = combined_df[combined_df['reform'] == \"Phased Roth-Style Swap\"].copy()\n\n# Create and display animated change in net income graph\nfig6_change = create_animated_change_graph(option6_df, \"Option 6: Phased Roth-Style\")\nfig6_change.show()\n\n# Create and display animated comparison graph\nfig6_comparison = create_animated_comparison_graph(option6_df, \"Option 6: Phased Roth-Style\")\nfig6_comparison.show()"
  }
 ],
 "metadata": {
  "kernelspec": {
   "display_name": "pe",
   "language": "python",
   "name": "python3"
  },
  "language_info": {
   "codemirror_mode": {
    "name": "ipython",
    "version": 3
   },
   "file_extension": ".py",
   "mimetype": "text/x-python",
   "name": "python",
   "nbconvert_exporter": "python",
   "pygments_lexer": "ipython3",
   "version": "3.12.10"
  }
 },
 "nbformat": 4,
 "nbformat_minor": 4
}