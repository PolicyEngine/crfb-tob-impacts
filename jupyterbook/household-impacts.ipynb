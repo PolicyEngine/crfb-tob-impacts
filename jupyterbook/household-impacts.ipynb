{
 "cells": [
  {
   "cell_type": "markdown",
   "metadata": {},
   "source": "# Household Impacts\n\nThis chapter analyzes how each of the seven Social Security taxation reform options affects individual households across different income levels. The analysis shows both the change in net income and comparative baseline vs. reform scenarios for each policy option.\n\n## Household Example\n\nThe household impact analysis uses a representative household with the following characteristics:\n- Single elderly tax filer\n- Age 70\n- Social Security benefits: $30,000 per year\n- Employment income varying from $0 to $200,000 in $500 increments\n- Located in Florida (no state income tax)\n- Standard deduction\n\nFor each income level and policy option, we calculate:\n1. **Change in Net Income**: The difference in household net income under the reform versus baseline\n2. **Baseline vs Reform Comparison**: Total net income under current law versus under each policy reform"
  },
  {
   "cell_type": "code",
   "execution_count": null,
   "metadata": {
    "execution": {
     "iopub.execute_input": "2025-09-20T10:14:33.454621Z",
     "iopub.status.busy": "2025-09-20T10:14:33.454386Z",
     "iopub.status.idle": "2025-09-20T10:14:33.643790Z",
     "shell.execute_reply": "2025-09-20T10:14:33.643548Z"
    },
    "tags": [
     "hide-input",
     "hide-output"
    ]
   },
   "outputs": [],
   "source": "# Import necessary libraries for visualization\nfrom IPython.display import display, HTML\nimport plotly.express as px\nimport plotly.graph_objects as go\nimport pandas as pd\nimport warnings\nwarnings.filterwarnings('ignore')\n\n# Define PolicyEngine's color palette\nBLACK = \"#000000\"\nBLUE_LIGHT = \"#D8E6F3\"\nBLUE_PRIMARY = \"#2C6496\"\nDARK_BLUE_HOVER = \"#1d3e5e\"\nDARK_GRAY = \"#616161\"\nDARKEST_BLUE = \"#0C1A27\"\nGRAY = \"#808080\"\nLIGHT_GRAY = \"#F2F2F2\"\nMEDIUM_DARK_GRAY = \"#D2D2D2\"\nMEDIUM_LIGHT_GRAY = \"#BDBDBD\"\nWHITE = \"#FFFFFF\""
  },
  {
   "cell_type": "code",
   "execution_count": null,
   "metadata": {
    "execution": {
     "iopub.execute_input": "2025-09-20T10:14:33.655874Z",
     "iopub.status.busy": "2025-09-20T10:14:33.655773Z",
     "iopub.status.idle": "2025-09-20T10:14:33.663125Z",
     "shell.execute_reply": "2025-09-20T10:14:33.662927Z"
    },
    "tags": [
     "hide-input",
     "hide-output"
    ]
   },
   "outputs": [],
   "source": "# Load the pre-generated household impact data\ncombined_df = pd.read_csv(\"../data/household_impacts.csv\")"
  },
  {
   "cell_type": "code",
   "execution_count": null,
   "metadata": {
    "execution": {
     "iopub.execute_input": "2025-09-20T10:14:33.664017Z",
     "iopub.status.busy": "2025-09-20T10:14:33.663965Z",
     "iopub.status.idle": "2025-09-20T10:14:33.667372Z",
     "shell.execute_reply": "2025-09-20T10:14:33.667198Z"
    },
    "tags": [
     "hide-input"
    ]
   },
   "outputs": [],
   "source": "# Define visualization functions\ndef create_animated_change_graph(df, reform_name):\n    \"\"\"Create an animated graph showing change in net income across years with enhanced hover data\"\"\"\n\n    # Create custom hover data\n    fig = go.Figure()\n\n    # Get unique years for animation frames\n    years = sorted(df['year'].unique())\n\n    # Create frames for animation\n    frames = []\n    for year in years:\n        year_data = df[df['year'] == year]\n        frame = go.Frame(\n            data=[go.Scatter(\n                x=year_data['employment_income'],\n                y=year_data['change_in_net_income'],\n                mode='lines',\n                line=dict(color=BLUE_PRIMARY, width=2),\n                customdata=year_data[['baseline_net_income', 'reform_net_income']],\n                hovertemplate='<b>Employment Income:</b> $%{x:,.0f}<br>' +\n                             '<b>Change in Net Income:</b> $%{y:,.0f}<br>' +\n                             '<b>Baseline Net Income:</b> $%{customdata[0]:,.0f}<br>' +\n                             '<b>Reform Net Income:</b> $%{customdata[1]:,.0f}<br>' +\n                             '<extra></extra>'\n            )],\n            name=str(year)\n        )\n        frames.append(frame)\n\n    # Add initial data for first year\n    initial_year = years[0]\n    initial_data = df[df['year'] == initial_year]\n\n    fig.add_trace(go.Scatter(\n        x=initial_data['employment_income'],\n        y=initial_data['change_in_net_income'],\n        mode='lines',\n        line=dict(color=BLUE_PRIMARY, width=2),\n        customdata=initial_data[['baseline_net_income', 'reform_net_income']],\n        hovertemplate='<b>Employment Income:</b> $%{x:,.0f}<br>' +\n                     '<b>Change in Net Income:</b> $%{y:,.0f}<br>' +\n                     '<b>Baseline Net Income:</b> $%{customdata[0]:,.0f}<br>' +\n                     '<b>Reform Net Income:</b> $%{customdata[1]:,.0f}<br>' +\n                     '<extra></extra>',\n        name='Impact'\n    ))\n\n    fig.frames = frames\n\n    # Add animation controls\n    fig.update_layout(\n        updatemenus=[{\n            \"type\": \"buttons\",\n            \"showactive\": False,\n            \"buttons\": [\n                {\n                    \"label\": \"Play\",\n                    \"method\": \"animate\",\n                    \"args\": [None, {\"frame\": {\"duration\": 500, \"redraw\": True},\n                                  \"fromcurrent\": True, \"transition\": {\"duration\": 300}}]\n                },\n                {\n                    \"label\": \"Pause\",\n                    \"method\": \"animate\",\n                    \"args\": [[None], {\"frame\": {\"duration\": 0, \"redraw\": False},\n                                    \"mode\": \"immediate\",\n                                    \"transition\": {\"duration\": 0}}]\n                }\n            ]\n        }],\n        sliders=[{\n            \"active\": 0,\n            \"steps\": [\n                {\n                    \"label\": str(year),\n                    \"method\": \"animate\",\n                    \"args\": [[str(year)], {\n                        \"frame\": {\"duration\": 0, \"redraw\": True},\n                        \"mode\": \"immediate\",\n                        \"transition\": {\"duration\": 0}\n                    }]\n                } for year in years\n            ],\n            \"y\": 0,\n            \"len\": 0.9,\n            \"x\": 0.05\n        }]\n    )\n\n    fig.update_layout(\n        title=f\"Change in Net Income - {reform_name}<br>Single Elderly Filer with $30,000 in Social Security Benefits\",\n        xaxis_title=\"Employment Income ($)\",\n        yaxis_title=\"Change in Net Income ($)\",\n        font=dict(family=\"Roboto Serif\"),\n        xaxis_tickformat=\",\",\n        yaxis_tickformat=\",\",\n        font_color=BLACK,\n        margin={\"l\": 50, \"r\": 50, \"b\": 100, \"t\": 100, \"pad\": 4},\n        showlegend=False,\n        annotations=[\n            {\n                \"x\": 1,\n                \"y\": -0.25,\n                \"xref\": \"paper\",\n                \"yref\": \"paper\",\n                \"text\": \"Source: PolicyEngine US\",\n                \"showarrow\": False,\n                \"font\": {\"family\": \"Roboto Serif\", \"size\": 10, \"color\": DARK_GRAY},\n            }\n        ],\n    )\n\n    return fig"
  },
  {
   "cell_type": "markdown",
   "metadata": {},
   "source": [
    "## Option 1: Full Repeal of Social Security Benefits Taxation\n",
    "\n",
    "This option completely eliminates the taxation of Social Security benefits, returning to the pre-1984 system where benefits were not subject to income tax."
   ]
  },
  {
   "cell_type": "code",
   "execution_count": null,
   "metadata": {
    "execution": {
     "iopub.execute_input": "2025-09-20T10:14:33.668314Z",
     "iopub.status.busy": "2025-09-20T10:14:33.668254Z",
     "iopub.status.idle": "2025-09-20T10:14:34.236268Z",
     "shell.execute_reply": "2025-09-20T10:14:34.236038Z"
    },
    "tags": [
     "hide-input"
    ]
   },
   "outputs": [],
   "source": "# Option 1: Full Repeal - Visualization\noption1_df = combined_df[combined_df['reform'] == \"Full Repeal of Social Security Benefits Taxation\"].copy()\n\n# Create and display animated change in net income graph with enhanced hover data\nfig1_change = create_animated_change_graph(option1_df, \"Option 1: Full Repeal\")\nfig1_change.show()"
  },
  {
   "cell_type": "markdown",
   "source": "## Option 2: Taxation of 85% of Social Security Benefits\n\nThis option taxes 85% of Social Security benefits for all recipients, regardless of income level, eliminating the current threshold system.",
   "metadata": {}
  },
  {
   "cell_type": "code",
   "source": "# Option 2: Taxation of 85% - Visualization\noption2_df = combined_df[combined_df['reform'] == \"Taxation of 85% of Social Security Benefits\"].copy()\n\n# Create and display animated change in net income graph with enhanced hover data\nfig2_change = create_animated_change_graph(option2_df, \"Option 2: Taxation of 85%\")\nfig2_change.show()",
   "metadata": {
    "tags": [
     "hide-input"
    ]
   },
   "execution_count": null,
   "outputs": []
  },
  {
   "cell_type": "markdown",
   "source": "## Option 3: 85% Taxation with Permanent Senior Deduction Extension\n\nThis option combines taxation of 85% of benefits with a permanent extension of the senior deduction that would otherwise expire in 2028.",
   "metadata": {}
  },
  {
   "cell_type": "code",
   "source": "# Option 3: 85% with Senior Deduction - Visualization\noption3_df = combined_df[combined_df['reform'] == \"85% Taxation with Permanent Senior Deduction Extension\"].copy()\n\n# Create and display animated change in net income graph with enhanced hover data\nfig3_change = create_animated_change_graph(option3_df, \"Option 3: 85% with Senior Deduction\")\nfig3_change.show()",
   "metadata": {
    "tags": [
     "hide-input"
    ]
   },
   "execution_count": null,
   "outputs": []
  },
  {
   "cell_type": "markdown",
   "source": "## Option 4: Social Security Tax Credit System ($500 Credit)\n\nThis option replaces the senior deduction with a $500 nonrefundable tax credit while taxing 85% of benefits.",
   "metadata": {},
   "execution_count": null,
   "outputs": []
  },
  {
   "cell_type": "code",
   "execution_count": null,
   "metadata": {
    "execution": {
     "iopub.execute_input": "2025-09-20T10:14:34.323921Z",
     "iopub.status.busy": "2025-09-20T10:14:34.323839Z",
     "iopub.status.idle": "2025-09-20T10:14:34.372236Z",
     "shell.execute_reply": "2025-09-20T10:14:34.372024Z"
    },
    "tags": [
     "hide-input"
    ]
   },
   "outputs": [],
   "source": "# Option 4: Tax Credit System - Visualization\noption4_df = combined_df[combined_df['reform'] == \"Social Security Tax Credit System ($500)\"].copy()\n\n# Create and display animated change in net income graph with enhanced hover data\nfig4_change = create_animated_change_graph(option4_df, \"Option 4: $500 Tax Credit\")\nfig4_change.show()"
  },
  {
   "cell_type": "markdown",
   "source": "## Option 5: Roth-Style Swap\n\nThis option eliminates taxation of Social Security benefits but increases payroll taxes by 2 percentage points (1% each for employer and employee).",
   "metadata": {}
  },
  {
   "cell_type": "code",
   "source": "# Option 5: Roth-Style Swap - Visualization\noption5_df = combined_df[combined_df['reform'] == \"Roth-Style Swap\"].copy()\n\n# Create and display animated change in net income graph with enhanced hover data\nfig5_change = create_animated_change_graph(option5_df, \"Option 5: Roth-Style Swap\")\nfig5_change.show()",
   "metadata": {
    "tags": [
     "hide-input"
    ]
   },
   "execution_count": null,
   "outputs": []
  },
  {
   "cell_type": "markdown",
   "source": "## Option 6: Phased Roth-Style Swap\n\nThis option phases in the Roth-style swap over 10 years, starting with a 0.2 percentage point payroll tax increase in 2026 and reaching the full 2 percentage points by 2035.",
   "metadata": {}
  },
  {
   "cell_type": "code",
   "source": "# Option 6: Phased Roth-Style - Visualization\noption6_df = combined_df[combined_df['reform'] == \"Phased Roth-Style Swap\"].copy()\n\n# Create and display animated change in net income graph with enhanced hover data\nfig6_change = create_animated_change_graph(option6_df, \"Option 6: Phased Roth-Style\")\nfig6_change.show()",
   "metadata": {
    "tags": [
     "hide-input"
    ]
   },
   "execution_count": null,
   "outputs": []
  },
  {
   "cell_type": "markdown",
   "source": "## Option 7: Eliminate Bonus Senior Deduction\n\nThis option eliminates the $6,000 bonus senior deduction from the One Big Beautiful Bill that includes a 6% phase-out beginning at $75k for single filers and $150k for joint filers.",
   "metadata": {}
  },
  {
   "cell_type": "code",
   "source": "# Option 7: Eliminate Bonus Senior Deduction - Visualization\noption7_df = combined_df[combined_df['reform'] == \"Eliminate Bonus Senior Deduction\"].copy()\n\n# Create and display animated change in net income graph with enhanced hover data\nfig7_change = create_animated_change_graph(option7_df, \"Option 7: Eliminate Bonus Senior Deduction\")\nfig7_change.show()",
   "metadata": {
    "tags": [
     "hide-input"
    ]
   },
   "execution_count": null,
   "outputs": []
  }
 ],
 "metadata": {
  "kernelspec": {
   "display_name": "pe",
   "language": "python",
   "name": "python3"
  },
  "language_info": {
   "codemirror_mode": {
    "name": "ipython",
    "version": 3
   },
   "file_extension": ".py",
   "mimetype": "text/x-python",
   "name": "python",
   "nbconvert_exporter": "python",
   "pygments_lexer": "ipython3",
   "version": "3.13.3"
  }
 },
 "nbformat": 4,
 "nbformat_minor": 4
}