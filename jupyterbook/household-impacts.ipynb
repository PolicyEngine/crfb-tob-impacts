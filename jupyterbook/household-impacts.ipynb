{
 "cells": [
  {
   "cell_type": "markdown",
   "metadata": {},
   "source": [
    "# Household Impact Analysis\n",
    "\n",
    "This chapter analyzes how each of the seven Social Security taxation reform options affects individual households across different income levels. The analysis shows both the change in net income and comparative baseline vs. reform scenarios for each policy option.\n",
    "\n",
    "## Household Example\n",
    "\n",
    "The household impact analysis uses a representative household with the following characteristics:\n",
    "- Single elderly tax filer\n",
    "- Age 70\n",
    "- Social Security benefits: $30,000 per year\n",
    "- Employment income varying from $0 to $200,000 in $500 increments\n",
    "- Located in Florida (no state income tax)\n",
    "- Standard deduction\n",
    "\n",
    "For each income level and policy option, we calculate:\n",
    "1. **Change in Net Income**: The difference in household net income under the reform versus baseline\n",
    "2. **Baseline vs Reform Comparison**: Total net income under current law versus under each policy reform"
   ]
  },
  {
   "cell_type": "code",
   "execution_count": 1,
   "metadata": {
    "execution": {
     "iopub.execute_input": "2025-09-19T20:30:34.736513Z",
     "iopub.status.busy": "2025-09-19T20:30:34.735516Z",
     "iopub.status.idle": "2025-09-19T20:30:58.165022Z",
     "shell.execute_reply": "2025-09-19T20:30:58.164512Z"
    },
    "tags": [
     "hide-input",
     "hide-output"
    ]
   },
   "outputs": [
    {
     "name": "stderr",
     "output_type": "stream",
     "text": [
      "c:\\Users\\dtsax\\envs\\pe\\Lib\\site-packages\\tqdm\\auto.py:21: TqdmWarning: IProgress not found. Please update jupyter and ipywidgets. See https://ipywidgets.readthedocs.io/en/stable/user_install.html\n",
      "  from .autonotebook import tqdm as notebook_tqdm\n"
     ]
    },
    {
     "name": "stdout",
     "output_type": "stream",
     "text": [
      "Libraries loaded successfully!\n"
     ]
    }
   ],
   "source": [
    "# Import necessary libraries\n",
    "from IPython.display import display, HTML\n",
    "import plotly.express as px\n",
    "import plotly.graph_objects as go\n",
    "import pandas as pd\n",
    "from policyengine_us import Simulation\n",
    "from policyengine_core.reforms import Reform\n",
    "import warnings\n",
    "warnings.filterwarnings('ignore')\n",
    "\n",
    "# Define PolicyEngine's color palette\n",
    "BLACK = \"#000000\"\n",
    "BLUE_LIGHT = \"#D8E6F3\"\n",
    "BLUE_PRIMARY = \"#2C6496\"\n",
    "DARK_BLUE_HOVER = \"#1d3e5e\"\n",
    "DARK_GRAY = \"#616161\"\n",
    "DARKEST_BLUE = \"#0C1A27\"\n",
    "GRAY = \"#808080\"\n",
    "LIGHT_GRAY = \"#F2F2F2\"\n",
    "MEDIUM_DARK_GRAY = \"#D2D2D2\"\n",
    "MEDIUM_LIGHT_GRAY = \"#BDBDBD\"\n",
    "WHITE = \"#FFFFFF\"\n",
    "\n",
    "print(\"Libraries loaded successfully!\")"
   ]
  },
  {
   "cell_type": "code",
   "execution_count": 2,
   "metadata": {
    "execution": {
     "iopub.execute_input": "2025-09-19T20:30:58.167032Z",
     "iopub.status.busy": "2025-09-19T20:30:58.167032Z",
     "iopub.status.idle": "2025-09-19T20:30:58.175127Z",
     "shell.execute_reply": "2025-09-19T20:30:58.175127Z"
    },
    "tags": [
     "hide-input"
    ]
   },
   "outputs": [
    {
     "name": "stdout",
     "output_type": "stream",
     "text": [
      "Multi-year household situation function defined!\n"
     ]
    }
   ],
   "source": [
    "# Define the base household situation for multiple years\n",
    "def get_household_situation_for_year(year):\n",
    "    \"\"\"Create the base household situation for a specific year\"\"\"\n",
    "    return {\n",
    "        \"people\": {\n",
    "            \"person1\": {\n",
    "                \"age\": {str(year): 70 + (year - 2026)},  # Age increases each year\n",
    "                \"social_security_retirement\": {str(year): 30000}\n",
    "            }\n",
    "        },\n",
    "        \"families\": {\n",
    "            \"your family\": {\"members\": [\"person1\"]}\n",
    "        },\n",
    "        \"marital_units\": {\n",
    "            \"your marital unit\": {\"members\": [\"person1\"]}\n",
    "        },\n",
    "        \"tax_units\": {\n",
    "            \"your tax unit\": {\"members\": [\"person1\"]}\n",
    "        },\n",
    "        \"spm_units\": {\n",
    "            \"your household\": {\"members\": [\"person1\"]}\n",
    "        },\n",
    "        \"households\": {\n",
    "            \"your household\": {\n",
    "                \"members\": [\"person1\"],\n",
    "                \"state_name\": {str(year): \"FL\"}\n",
    "            }\n",
    "        },\n",
    "        \"axes\": [[\n",
    "            {\n",
    "                \"name\": \"employment_income\",\n",
    "                \"count\": 401,\n",
    "                \"min\": 0,\n",
    "                \"max\": 200000\n",
    "            }\n",
    "        ]]\n",
    "    }\n",
    "\n",
    "print(\"Multi-year household situation function defined!\")"
   ]
  },
  {
   "cell_type": "code",
   "execution_count": 3,
   "metadata": {
    "execution": {
     "iopub.execute_input": "2025-09-19T20:30:58.177135Z",
     "iopub.status.busy": "2025-09-19T20:30:58.177135Z",
     "iopub.status.idle": "2025-09-19T20:30:58.194882Z",
     "shell.execute_reply": "2025-09-19T20:30:58.194882Z"
    },
    "tags": [
     "hide-input",
     "hide-output"
    ]
   },
   "outputs": [
    {
     "name": "stdout",
     "output_type": "stream",
     "text": [
      "Reform functions defined successfully!\n"
     ]
    }
   ],
   "source": [
    "# Define all reform functions\n",
    "def get_option1_reform():\n",
    "    \"\"\"Option 1: Full Repeal of Social Security Benefits Taxation\"\"\"\n",
    "    return Reform.from_dict({\n",
    "        \"gov.irs.social_security.taxability.rate.base\": {\n",
    "            \"2026-01-01.2100-12-31\": 0\n",
    "        },\n",
    "        \"gov.irs.social_security.taxability.rate.additional\": {\n",
    "            \"2026-01-01.2100-12-31\": 0\n",
    "        }\n",
    "    }, country_id=\"us\")\n",
    "\n",
    "def get_option2_reform():\n",
    "    \"\"\"Option 2: Taxation of 85% of Social Security Benefits\"\"\"\n",
    "    return Reform.from_dict({\n",
    "        \"gov.irs.social_security.taxability.rate.base\": {\n",
    "            \"2026-01-01.2100-12-31\": 0.85\n",
    "        },\n",
    "        \"gov.irs.social_security.taxability.threshold.base.main.JOINT\": {\n",
    "            \"2026-01-01.2100-12-31\": 0\n",
    "        },\n",
    "        \"gov.irs.social_security.taxability.threshold.base.main.SINGLE\": {\n",
    "            \"2026-01-01.2100-12-31\": 0\n",
    "        },\n",
    "        \"gov.irs.social_security.taxability.threshold.base.main.SEPARATE\": {\n",
    "            \"2026-01-01.2100-12-31\": 0\n",
    "        },\n",
    "        \"gov.irs.social_security.taxability.threshold.base.main.SURVIVING_SPOUSE\": {\n",
    "            \"2026-01-01.2100-12-31\": 0\n",
    "        },\n",
    "        \"gov.irs.social_security.taxability.threshold.base.main.HEAD_OF_HOUSEHOLD\": {\n",
    "            \"2026-01-01.2100-12-31\": 0\n",
    "        }\n",
    "    }, country_id=\"us\")\n",
    "\n",
    "def get_option3_reform():\n",
    "    \"\"\"Option 3: 85% Taxation with Permanent Senior Deduction Extension\"\"\"\n",
    "    return Reform.from_dict({\n",
    "        \"gov.irs.social_security.taxability.rate.base\": {\n",
    "            \"2026-01-01.2100-12-31\": 0.85\n",
    "        },\n",
    "        \"gov.irs.social_security.taxability.threshold.base.main.JOINT\": {\n",
    "            \"2026-01-01.2100-12-31\": 0\n",
    "        },\n",
    "        \"gov.irs.social_security.taxability.threshold.base.main.SINGLE\": {\n",
    "            \"2026-01-01.2100-12-31\": 0\n",
    "        },\n",
    "        \"gov.irs.social_security.taxability.threshold.base.main.SEPARATE\": {\n",
    "            \"2026-01-01.2100-12-31\": 0\n",
    "        },\n",
    "        \"gov.irs.social_security.taxability.threshold.base.main.SURVIVING_SPOUSE\": {\n",
    "            \"2026-01-01.2100-12-31\": 0\n",
    "        },\n",
    "        \"gov.irs.social_security.taxability.threshold.base.main.HEAD_OF_HOUSEHOLD\": {\n",
    "            \"2026-01-01.2100-12-31\": 0\n",
    "        },\n",
    "        \"gov.contrib.crfb.senior_deduction_extension.applies\": {\n",
    "            \"2026-01-01.2100-12-31\": True\n",
    "        }\n",
    "    }, country_id=\"us\")\n",
    "\n",
    "def get_option4_reform():\n",
    "    \"\"\"Option 4: Social Security Tax Credit System ($500 Credit)\"\"\"\n",
    "    return Reform.from_dict({\n",
    "        \"gov.irs.social_security.taxability.rate.base\": {\n",
    "            \"2026-01-01.2100-12-31\": 0.85\n",
    "        },\n",
    "        \"gov.irs.social_security.taxability.threshold.base.main.JOINT\": {\n",
    "            \"2026-01-01.2100-12-31\": 0\n",
    "        },\n",
    "        \"gov.irs.social_security.taxability.threshold.base.main.SINGLE\": {\n",
    "            \"2026-01-01.2100-12-31\": 0\n",
    "        },\n",
    "        \"gov.irs.social_security.taxability.threshold.base.main.SEPARATE\": {\n",
    "            \"2026-01-01.2100-12-31\": 0\n",
    "        },\n",
    "        \"gov.irs.social_security.taxability.threshold.base.main.SURVIVING_SPOUSE\": {\n",
    "            \"2026-01-01.2100-12-31\": 0\n",
    "        },\n",
    "        \"gov.irs.social_security.taxability.threshold.base.main.HEAD_OF_HOUSEHOLD\": {\n",
    "            \"2026-01-01.2100-12-31\": 0\n",
    "        },\n",
    "        \"gov.contrib.crfb.ss_credit.in_effect\": {\n",
    "            \"2026-01-01.2100-12-31\": True\n",
    "        },\n",
    "        \"gov.contrib.crfb.ss_credit.amount.JOINT\": {\n",
    "            \"2026-01-01.2100-12-31\": 500\n",
    "        },\n",
    "        \"gov.contrib.crfb.ss_credit.amount.SINGLE\": {\n",
    "            \"2026-01-01.2100-12-31\": 500\n",
    "        },\n",
    "        \"gov.contrib.crfb.ss_credit.amount.SEPARATE\": {\n",
    "            \"2026-01-01.2100-12-31\": 500\n",
    "        },\n",
    "        \"gov.contrib.crfb.ss_credit.amount.SURVIVING_SPOUSE\": {\n",
    "            \"2026-01-01.2100-12-31\": 500\n",
    "        },\n",
    "        \"gov.contrib.crfb.ss_credit.amount.HEAD_OF_HOUSEHOLD\": {\n",
    "            \"2026-01-01.2100-12-31\": 500\n",
    "        },\n",
    "        \"gov.irs.deductions.senior_deduction.amount\": {\n",
    "            \"2026-01-01.2100-12-31\": 0\n",
    "        }\n",
    "    }, country_id=\"us\")\n",
    "\n",
    "def get_option5_reform():\n",
    "    \"\"\"Option 5: Roth-Style Swap\"\"\"\n",
    "    return Reform.from_dict({\n",
    "        \"gov.irs.social_security.taxability.rate.base\": {\n",
    "            \"2026-01-01.2100-12-31\": 0\n",
    "        },\n",
    "        \"gov.irs.social_security.taxability.rate.additional\": {\n",
    "            \"2026-01-01.2100-12-31\": 0\n",
    "        },\n",
    "        \"gov.contrib.crfb.tax_employer_payroll_tax.in_effect\": {\n",
    "            \"2026-01-01.2100-12-31\": True\n",
    "        },\n",
    "        \"gov.contrib.crfb.tax_employer_payroll_tax.percentage\": {\n",
    "            \"2026-01-01.2100-12-31\": 1.0\n",
    "        }\n",
    "    }, country_id=\"us\")\n",
    "\n",
    "def get_option6_reform():\n",
    "    \"\"\"Option 6: Phased Roth-Style Swap\"\"\"\n",
    "    reform_dict = {\n",
    "        \"gov.contrib.crfb.tax_employer_payroll_tax.in_effect\": {\n",
    "            \"2026-01-01.2100-12-31\": True\n",
    "        },\n",
    "        \"gov.contrib.crfb.tax_employer_payroll_tax.percentage\": {\n",
    "            \"2026-01-01.2026-12-31\": 0.1307,\n",
    "            \"2027-01-01.2027-12-31\": 0.2614,\n",
    "            \"2028-01-01.2028-12-31\": 0.3922,\n",
    "            \"2029-01-01.2029-12-31\": 0.5229,\n",
    "            \"2030-01-01.2030-12-31\": 0.6536,\n",
    "            \"2031-01-01.2031-12-31\": 0.7843,\n",
    "            \"2032-01-01.2032-12-31\": 0.9150,\n",
    "            \"2033-01-01.2100-12-31\": 1.0\n",
    "        },\n",
    "        \"gov.irs.social_security.taxability.rate.base\": {\n",
    "            \"2029-01-01.2029-12-31\": 0.45,\n",
    "            \"2030-01-01.2030-12-31\": 0.40,\n",
    "            \"2031-01-01.2031-12-31\": 0.35,\n",
    "            \"2032-01-01.2032-12-31\": 0.30,\n",
    "            \"2033-01-01.2033-12-31\": 0.25,\n",
    "            \"2034-01-01.2034-12-31\": 0.20,\n",
    "            \"2035-01-01.2035-12-31\": 0.15,\n",
    "            \"2036-01-01.2036-12-31\": 0.10,\n",
    "            \"2037-01-01.2037-12-31\": 0.05,\n",
    "            \"2038-01-01.2100-12-31\": 0\n",
    "        },\n",
    "        \"gov.irs.social_security.taxability.rate.additional\": {\n",
    "            \"2029-01-01.2029-12-31\": 0.80,\n",
    "            \"2030-01-01.2030-12-31\": 0.75,\n",
    "            \"2031-01-01.2031-12-31\": 0.70,\n",
    "            \"2032-01-01.2032-12-31\": 0.65,\n",
    "            \"2033-01-01.2033-12-31\": 0.60,\n",
    "            \"2034-01-01.2034-12-31\": 0.55,\n",
    "            \"2035-01-01.2035-12-31\": 0.50,\n",
    "            \"2036-01-01.2036-12-31\": 0.45,\n",
    "            \"2037-01-01.2037-12-31\": 0.40,\n",
    "            \"2038-01-01.2038-12-31\": 0.35,\n",
    "            \"2039-01-01.2039-12-31\": 0.30,\n",
    "            \"2040-01-01.2040-12-31\": 0.25,\n",
    "            \"2041-01-01.2041-12-31\": 0.20,\n",
    "            \"2042-01-01.2042-12-31\": 0.15,\n",
    "            \"2043-01-01.2043-12-31\": 0.10,\n",
    "            \"2044-01-01.2044-12-31\": 0.05,\n",
    "            \"2045-01-01.2100-12-31\": 0\n",
    "        }\n",
    "    }\n",
    "    return Reform.from_dict(reform_dict, country_id=\"us\")\n",
    "\n",
    "def get_option7_reform():\n",
    "    \"\"\"Option 7: Eliminate Bonus Senior Deduction\n",
    "\n",
    "    Eliminates the $6,000 bonus senior deduction from the One Big Beautiful Bill\n",
    "    that has a 6% phase-out beginning at $75k/$150k for single/joint filers.\n",
    "    The deduction expires in 2029, so there's only impact from 2026-2028.\n",
    "    \"\"\"\n",
    "    return Reform.from_dict({\n",
    "        \"gov.irs.deductions.senior_deduction.amount\": {\n",
    "            \"2026-01-01.2100-12-31\": 0\n",
    "        }\n",
    "    }, country_id=\"us\")\n",
    "\n",
    "print(\"Reform functions defined successfully!\")"
   ]
  },
  {
   "cell_type": "code",
   "execution_count": 4,
   "metadata": {
    "execution": {
     "iopub.execute_input": "2025-09-19T20:30:58.199925Z",
     "iopub.status.busy": "2025-09-19T20:30:58.198760Z",
     "iopub.status.idle": "2025-09-19T20:30:58.213028Z",
     "shell.execute_reply": "2025-09-19T20:30:58.213028Z"
    },
    "tags": [
     "hide-input",
     "hide-output"
    ]
   },
   "outputs": [
    {
     "name": "stdout",
     "output_type": "stream",
     "text": [
      "Multi-year calculation and animated graph functions defined!\n"
     ]
    }
   ],
   "source": [
    "# Function to calculate impacts for all years and create a combined dataframe\n",
    "def calculate_all_years_impact(reform_func, reform_name):\n",
    "    \"\"\"Calculate impacts for all years 2026-2035 and return a DataFrame\"\"\"\n",
    "    all_data = []\n",
    "    years = range(2026, 2036)\n",
    "    \n",
    "    for year in years:\n",
    "        print(f\"  Calculating {reform_name} for {year}...\")\n",
    "        situation = get_household_situation_for_year(year)\n",
    "        reform = reform_func()\n",
    "        \n",
    "        # Calculate reform net income\n",
    "        simulation_reform = Simulation(\n",
    "            reform=reform,\n",
    "            situation=situation,\n",
    "        )\n",
    "        reform_net_income = simulation_reform.calculate(\"household_net_income\", year)\n",
    "        \n",
    "        # Calculate baseline net income\n",
    "        simulation_baseline = Simulation(\n",
    "            situation=situation,\n",
    "        )\n",
    "        baseline_net_income = simulation_baseline.calculate(\"household_net_income\", year)\n",
    "        \n",
    "        # Calculate change in net income\n",
    "        change_in_net_income = reform_net_income - baseline_net_income\n",
    "        \n",
    "        # Add data for this year\n",
    "        employment_income = [i * 500 for i in range(401)]\n",
    "        for i, emp_income in enumerate(employment_income):\n",
    "            all_data.append({\n",
    "                'reform': reform_name,\n",
    "                'year': year,\n",
    "                'employment_income': emp_income,\n",
    "                'baseline_net_income': baseline_net_income[i],\n",
    "                'reform_net_income': reform_net_income[i],\n",
    "                'change_in_net_income': change_in_net_income[i]\n",
    "            })\n",
    "    \n",
    "    return pd.DataFrame(all_data)\n",
    "\n",
    "# Function to create animated change graph\n",
    "def create_animated_change_graph(df, reform_name):\n",
    "    \"\"\"Create an animated graph showing change in net income across years\"\"\"\n",
    "    \n",
    "    fig = px.line(\n",
    "        df,\n",
    "        x=\"employment_income\",\n",
    "        y=\"change_in_net_income\",\n",
    "        animation_frame=\"year\",\n",
    "        color_discrete_sequence=[BLUE_PRIMARY],\n",
    "        title=f\"Change in Net Income - {reform_name}<br>Single Elderly Filer with $30,000 in Social Security Benefits\",\n",
    "        labels={\n",
    "            \"employment_income\": \"Employment Income ($)\",\n",
    "            \"change_in_net_income\": \"Change in Net Income ($)\",\n",
    "            \"year\": \"Year\"\n",
    "        }\n",
    "    )\n",
    "    \n",
    "    fig.update_layout(\n",
    "        font=dict(family=\"Roboto Serif\"),\n",
    "        xaxis_tickformat=\",\",\n",
    "        yaxis_tickformat=\",\",\n",
    "        font_color=BLACK,\n",
    "        margin={\"l\": 50, \"r\": 50, \"b\": 100, \"t\": 100, \"pad\": 4},\n",
    "        annotations=[\n",
    "            {\n",
    "                \"x\": 1,\n",
    "                \"y\": -0.25,\n",
    "                \"xref\": \"paper\",\n",
    "                \"yref\": \"paper\",\n",
    "                \"text\": \"Source: PolicyEngine US\",\n",
    "                \"showarrow\": False,\n",
    "                \"font\": {\"family\": \"Roboto Serif\", \"size\": 10, \"color\": DARK_GRAY},\n",
    "            }\n",
    "        ],\n",
    "    )\n",
    "    \n",
    "    # Update animation settings\n",
    "    fig.layout.updatemenus[0].buttons[0].args[1][\"frame\"][\"duration\"] = 500\n",
    "    fig.layout.updatemenus[0].buttons[0].args[1][\"transition\"][\"duration\"] = 300\n",
    "    \n",
    "    return fig\n",
    "\n",
    "# Function to create animated comparison graph\n",
    "def create_animated_comparison_graph(df, reform_name):\n",
    "    \"\"\"Create an animated graph comparing reform and baseline net income across years\"\"\"\n",
    "    \n",
    "    # Reshape data for comparison plot\n",
    "    df_melted = pd.melt(\n",
    "        df,\n",
    "        id_vars=[\"employment_income\", \"year\"],\n",
    "        value_vars=[\"reform_net_income\", \"baseline_net_income\"],\n",
    "        var_name=\"Scenario\",\n",
    "        value_name=\"net_income\"\n",
    "    )\n",
    "    \n",
    "    # Clean up scenario names\n",
    "    df_melted['Scenario'] = df_melted['Scenario'].replace({\n",
    "        'reform_net_income': 'Reform',\n",
    "        'baseline_net_income': 'Baseline'\n",
    "    })\n",
    "    \n",
    "    fig = px.line(\n",
    "        df_melted,\n",
    "        x=\"employment_income\",\n",
    "        y=\"net_income\",\n",
    "        color=\"Scenario\",\n",
    "        animation_frame=\"year\",\n",
    "        color_discrete_map={\n",
    "            \"Reform\": BLUE_PRIMARY,\n",
    "            \"Baseline\": DARK_GRAY\n",
    "        },\n",
    "        title=f\"Net Income Comparison: Reform vs Baseline - {reform_name}<br>Single Elderly Filer with $30,000 in Social Security Benefits\",\n",
    "        labels={\n",
    "            \"employment_income\": \"Employment Income ($)\",\n",
    "            \"net_income\": \"Net Income ($)\",\n",
    "            \"year\": \"Year\"\n",
    "        }\n",
    "    )\n",
    "    \n",
    "    fig.update_layout(\n",
    "        font=dict(family=\"Roboto Serif\"),\n",
    "        xaxis_tickformat=\",\",\n",
    "        yaxis_tickformat=\",\",\n",
    "        font_color=BLACK,\n",
    "        margin={\"l\": 50, \"r\": 50, \"b\": 100, \"t\": 100, \"pad\": 4},\n",
    "        legend=dict(\n",
    "            yanchor=\"top\",\n",
    "            y=0.99,\n",
    "            xanchor=\"left\",\n",
    "            x=0.01\n",
    "        ),\n",
    "        annotations=[\n",
    "            {\n",
    "                \"x\": 1,\n",
    "                \"y\": -0.25,\n",
    "                \"xref\": \"paper\",\n",
    "                \"yref\": \"paper\",\n",
    "                \"text\": \"Source: PolicyEngine US\",\n",
    "                \"showarrow\": False,\n",
    "                \"font\": {\"family\": \"Roboto Serif\", \"size\": 10, \"color\": DARK_GRAY},\n",
    "            }\n",
    "        ],\n",
    "    )\n",
    "    \n",
    "    # Update animation settings\n",
    "    fig.layout.updatemenus[0].buttons[0].args[1][\"frame\"][\"duration\"] = 500\n",
    "    fig.layout.updatemenus[0].buttons[0].args[1][\"transition\"][\"duration\"] = 300\n",
    "    \n",
    "    return fig\n",
    "\n",
    "print(\"Multi-year calculation and animated graph functions defined!\")"
   ]
  },
  {
   "cell_type": "code",
   "execution_count": 5,
   "metadata": {},
   "outputs": [
    {
     "name": "stdout",
     "output_type": "stream",
     "text": [
      "Generating multi-year household impact data for all reforms...\n",
      "This may take a few minutes...\n",
      "\n",
      "Processing Option 1: Full Repeal...\n",
      "  Calculating Option 1: Full Repeal for 2026...\n",
      "  Calculating Option 1: Full Repeal for 2027...\n",
      "  Calculating Option 1: Full Repeal for 2028...\n",
      "  Calculating Option 1: Full Repeal for 2029...\n",
      "  Calculating Option 1: Full Repeal for 2030...\n",
      "  Calculating Option 1: Full Repeal for 2031...\n",
      "  Calculating Option 1: Full Repeal for 2032...\n",
      "  Calculating Option 1: Full Repeal for 2033...\n",
      "  Calculating Option 1: Full Repeal for 2034...\n",
      "  Calculating Option 1: Full Repeal for 2035...\n",
      "  Completed Option 1: Full Repeal\n",
      "\n",
      "Processing Option 2: 85% Taxation...\n",
      "  Calculating Option 2: 85% Taxation for 2026...\n",
      "  Calculating Option 2: 85% Taxation for 2027...\n",
      "  Calculating Option 2: 85% Taxation for 2028...\n",
      "  Calculating Option 2: 85% Taxation for 2029...\n",
      "  Calculating Option 2: 85% Taxation for 2030...\n",
      "  Calculating Option 2: 85% Taxation for 2031...\n",
      "  Calculating Option 2: 85% Taxation for 2032...\n",
      "  Calculating Option 2: 85% Taxation for 2033...\n",
      "  Calculating Option 2: 85% Taxation for 2034...\n",
      "  Calculating Option 2: 85% Taxation for 2035...\n",
      "  Completed Option 2: 85% Taxation\n",
      "\n",
      "Processing Option 3: 85% with Senior Deduction...\n",
      "  Calculating Option 3: 85% with Senior Deduction for 2026...\n",
      "  Calculating Option 3: 85% with Senior Deduction for 2027...\n",
      "  Calculating Option 3: 85% with Senior Deduction for 2028...\n",
      "  Calculating Option 3: 85% with Senior Deduction for 2029...\n",
      "  Calculating Option 3: 85% with Senior Deduction for 2030...\n",
      "  Calculating Option 3: 85% with Senior Deduction for 2031...\n",
      "  Calculating Option 3: 85% with Senior Deduction for 2032...\n",
      "  Calculating Option 3: 85% with Senior Deduction for 2033...\n",
      "  Calculating Option 3: 85% with Senior Deduction for 2034...\n",
      "  Calculating Option 3: 85% with Senior Deduction for 2035...\n",
      "  Completed Option 3: 85% with Senior Deduction\n",
      "\n",
      "Processing Option 4: $500 Tax Credit...\n",
      "  Calculating Option 4: $500 Tax Credit for 2026...\n",
      "  Calculating Option 4: $500 Tax Credit for 2027...\n",
      "  Calculating Option 4: $500 Tax Credit for 2028...\n",
      "  Calculating Option 4: $500 Tax Credit for 2029...\n",
      "  Calculating Option 4: $500 Tax Credit for 2030...\n",
      "  Calculating Option 4: $500 Tax Credit for 2031...\n",
      "  Calculating Option 4: $500 Tax Credit for 2032...\n",
      "  Calculating Option 4: $500 Tax Credit for 2033...\n",
      "  Calculating Option 4: $500 Tax Credit for 2034...\n",
      "  Calculating Option 4: $500 Tax Credit for 2035...\n",
      "  Completed Option 4: $500 Tax Credit\n",
      "\n",
      "Processing Option 5: Roth-Style Swap...\n",
      "  Calculating Option 5: Roth-Style Swap for 2026...\n",
      "  Calculating Option 5: Roth-Style Swap for 2027...\n",
      "  Calculating Option 5: Roth-Style Swap for 2028...\n",
      "  Calculating Option 5: Roth-Style Swap for 2029...\n",
      "  Calculating Option 5: Roth-Style Swap for 2030...\n",
      "  Calculating Option 5: Roth-Style Swap for 2031...\n",
      "  Calculating Option 5: Roth-Style Swap for 2032...\n",
      "  Calculating Option 5: Roth-Style Swap for 2033...\n",
      "  Calculating Option 5: Roth-Style Swap for 2034...\n",
      "  Calculating Option 5: Roth-Style Swap for 2035...\n",
      "  Completed Option 5: Roth-Style Swap\n",
      "\n",
      "Processing Option 6: Phased Roth-Style...\n",
      "  Calculating Option 6: Phased Roth-Style for 2026...\n",
      "  Calculating Option 6: Phased Roth-Style for 2027...\n",
      "  Calculating Option 6: Phased Roth-Style for 2028...\n",
      "  Calculating Option 6: Phased Roth-Style for 2029...\n",
      "  Calculating Option 6: Phased Roth-Style for 2030...\n",
      "  Calculating Option 6: Phased Roth-Style for 2031...\n",
      "  Calculating Option 6: Phased Roth-Style for 2032...\n",
      "  Calculating Option 6: Phased Roth-Style for 2033...\n",
      "  Calculating Option 6: Phased Roth-Style for 2034...\n",
      "  Calculating Option 6: Phased Roth-Style for 2035...\n",
      "  Completed Option 6: Phased Roth-Style\n",
      "\n",
      "Processing Option 7: Eliminate Senior Deduction...\n",
      "  Calculating Option 7: Eliminate Senior Deduction for 2026...\n",
      "  Calculating Option 7: Eliminate Senior Deduction for 2027...\n",
      "  Calculating Option 7: Eliminate Senior Deduction for 2028...\n",
      "  Calculating Option 7: Eliminate Senior Deduction for 2029...\n",
      "  Calculating Option 7: Eliminate Senior Deduction for 2030...\n",
      "  Calculating Option 7: Eliminate Senior Deduction for 2031...\n",
      "  Calculating Option 7: Eliminate Senior Deduction for 2032...\n",
      "  Calculating Option 7: Eliminate Senior Deduction for 2033...\n",
      "  Calculating Option 7: Eliminate Senior Deduction for 2034...\n",
      "  Calculating Option 7: Eliminate Senior Deduction for 2035...\n",
      "  Completed Option 7: Eliminate Senior Deduction\n",
      "\n",
      "Data saved to household_impacts_all_years.csv\n",
      "Total rows: 28,070\n",
      "Columns: reform, year, employment_income, baseline_net_income, reform_net_income, change_in_net_income\n"
     ]
    }
   ],
   "source": [
    "# Generate multi-year data for all reforms and save to CSV\n",
    "print(\"Generating multi-year household impact data for all reforms...\")\n",
    "print(\"This may take a few minutes...\\n\")\n",
    "\n",
    "# Define all reforms with their functions\n",
    "reforms = {\n",
    "    \"Option 1: Full Repeal\": get_option1_reform,\n",
    "    \"Option 2: 85% Taxation\": get_option2_reform,\n",
    "    \"Option 3: 85% with Senior Deduction\": get_option3_reform,\n",
    "    \"Option 4: $500 Tax Credit\": get_option4_reform,\n",
    "    \"Option 5: Roth-Style Swap\": get_option5_reform,\n",
    "    \"Option 6: Phased Roth-Style\": get_option6_reform,\n",
    "    \"Option 7: Eliminate Senior Deduction\": get_option7_reform\n",
    "}\n",
    "\n",
    "# Calculate data for all reforms\n",
    "all_reforms_data = []\n",
    "for reform_name, reform_func in reforms.items():\n",
    "    print(f\"Processing {reform_name}...\")\n",
    "    df = calculate_all_years_impact(reform_func, reform_name)\n",
    "    all_reforms_data.append(df)\n",
    "    print(f\"  Completed {reform_name}\\n\")\n",
    "\n",
    "# Combine all dataframes\n",
    "combined_df = pd.concat(all_reforms_data, ignore_index=True)\n",
    "\n",
    "# Save to CSV\n",
    "csv_filename = \"household_impacts_all_years.csv\"\n",
    "combined_df.to_csv(csv_filename, index=False)\n",
    "print(f\"Data saved to {csv_filename}\")\n",
    "print(f\"Total rows: {len(combined_df):,}\")\n",
    "print(f\"Columns: {', '.join(combined_df.columns)}\")"
   ]
  },
  {
   "cell_type": "markdown",
   "metadata": {},
   "source": [
    "## Option 1: Full Repeal of Social Security Benefits Taxation\n",
    "\n",
    "This option completely eliminates federal income taxation of Social Security benefits, returning to the pre-1984 policy where benefits were not subject to income tax."
   ]
  },
  {
   "cell_type": "code",
   "execution_count": 7,
   "metadata": {
    "execution": {
     "iopub.execute_input": "2025-09-19T20:30:58.216036Z",
     "iopub.status.busy": "2025-09-19T20:30:58.215035Z",
     "iopub.status.idle": "2025-09-19T20:31:28.209305Z",
     "shell.execute_reply": "2025-09-19T20:31:28.208749Z"
    },
    "tags": [
     "hide-input"
    ]
   },
   "outputs": [
    {
     "name": "stdout",
     "output_type": "stream",
     "text": [
      "Creating animated graphs for Option 1: Full Repeal...\n"
     ]
    },
    {
     "ename": "ValueError",
     "evalue": "Mime type rendering requires nbformat>=4.2.0 but it is not installed",
     "output_type": "error",
     "traceback": [
      "\u001b[1;31m---------------------------------------------------------------------------\u001b[0m",
      "\u001b[1;31mValueError\u001b[0m                                Traceback (most recent call last)",
      "Cell \u001b[1;32mIn[7], line 9\u001b[0m\n\u001b[0;32m      7\u001b[0m \u001b[38;5;66;03m# Create and display animated change in net income graph\u001b[39;00m\n\u001b[0;32m      8\u001b[0m fig1_change \u001b[38;5;241m=\u001b[39m create_animated_change_graph(option1_df, \u001b[38;5;124m\"\u001b[39m\u001b[38;5;124mOption 1: Full Repeal\u001b[39m\u001b[38;5;124m\"\u001b[39m)\n\u001b[1;32m----> 9\u001b[0m \u001b[43mfig1_change\u001b[49m\u001b[38;5;241;43m.\u001b[39;49m\u001b[43mshow\u001b[49m\u001b[43m(\u001b[49m\u001b[43m)\u001b[49m\n\u001b[0;32m     11\u001b[0m \u001b[38;5;66;03m# Create and display animated comparison graph\u001b[39;00m\n\u001b[0;32m     12\u001b[0m fig1_comparison \u001b[38;5;241m=\u001b[39m create_animated_comparison_graph(option1_df, \u001b[38;5;124m\"\u001b[39m\u001b[38;5;124mOption 1: Full Repeal\u001b[39m\u001b[38;5;124m\"\u001b[39m)\n",
      "File \u001b[1;32mc:\\Users\\dtsax\\envs\\pe\\Lib\\site-packages\\plotly\\basedatatypes.py:3410\u001b[0m, in \u001b[0;36mBaseFigure.show\u001b[1;34m(self, *args, **kwargs)\u001b[0m\n\u001b[0;32m   3377\u001b[0m \u001b[38;5;250m\u001b[39m\u001b[38;5;124;03m\"\"\"\u001b[39;00m\n\u001b[0;32m   3378\u001b[0m \u001b[38;5;124;03mShow a figure using either the default renderer(s) or the renderer(s)\u001b[39;00m\n\u001b[0;32m   3379\u001b[0m \u001b[38;5;124;03mspecified by the renderer argument\u001b[39;00m\n\u001b[1;32m   (...)\u001b[0m\n\u001b[0;32m   3406\u001b[0m \u001b[38;5;124;03mNone\u001b[39;00m\n\u001b[0;32m   3407\u001b[0m \u001b[38;5;124;03m\"\"\"\u001b[39;00m\n\u001b[0;32m   3408\u001b[0m \u001b[38;5;28;01mimport\u001b[39;00m\u001b[38;5;250m \u001b[39m\u001b[38;5;21;01mplotly\u001b[39;00m\u001b[38;5;21;01m.\u001b[39;00m\u001b[38;5;21;01mio\u001b[39;00m\u001b[38;5;250m \u001b[39m\u001b[38;5;28;01mas\u001b[39;00m\u001b[38;5;250m \u001b[39m\u001b[38;5;21;01mpio\u001b[39;00m\n\u001b[1;32m-> 3410\u001b[0m \u001b[38;5;28;01mreturn\u001b[39;00m \u001b[43mpio\u001b[49m\u001b[38;5;241;43m.\u001b[39;49m\u001b[43mshow\u001b[49m\u001b[43m(\u001b[49m\u001b[38;5;28;43mself\u001b[39;49m\u001b[43m,\u001b[49m\u001b[43m \u001b[49m\u001b[38;5;241;43m*\u001b[39;49m\u001b[43margs\u001b[49m\u001b[43m,\u001b[49m\u001b[43m \u001b[49m\u001b[38;5;241;43m*\u001b[39;49m\u001b[38;5;241;43m*\u001b[39;49m\u001b[43mkwargs\u001b[49m\u001b[43m)\u001b[49m\n",
      "File \u001b[1;32mc:\\Users\\dtsax\\envs\\pe\\Lib\\site-packages\\plotly\\io\\_renderers.py:394\u001b[0m, in \u001b[0;36mshow\u001b[1;34m(fig, renderer, validate, **kwargs)\u001b[0m\n\u001b[0;32m    389\u001b[0m         \u001b[38;5;28;01mraise\u001b[39;00m \u001b[38;5;167;01mValueError\u001b[39;00m(\n\u001b[0;32m    390\u001b[0m             \u001b[38;5;124m\"\u001b[39m\u001b[38;5;124mMime type rendering requires ipython but it is not installed\u001b[39m\u001b[38;5;124m\"\u001b[39m\n\u001b[0;32m    391\u001b[0m         )\n\u001b[0;32m    393\u001b[0m     \u001b[38;5;28;01mif\u001b[39;00m \u001b[38;5;129;01mnot\u001b[39;00m nbformat \u001b[38;5;129;01mor\u001b[39;00m Version(nbformat\u001b[38;5;241m.\u001b[39m__version__) \u001b[38;5;241m<\u001b[39m Version(\u001b[38;5;124m\"\u001b[39m\u001b[38;5;124m4.2.0\u001b[39m\u001b[38;5;124m\"\u001b[39m):\n\u001b[1;32m--> 394\u001b[0m         \u001b[38;5;28;01mraise\u001b[39;00m \u001b[38;5;167;01mValueError\u001b[39;00m(\n\u001b[0;32m    395\u001b[0m             \u001b[38;5;124m\"\u001b[39m\u001b[38;5;124mMime type rendering requires nbformat>=4.2.0 but it is not installed\u001b[39m\u001b[38;5;124m\"\u001b[39m\n\u001b[0;32m    396\u001b[0m         )\n\u001b[0;32m    398\u001b[0m     ipython_display\u001b[38;5;241m.\u001b[39mdisplay(bundle, raw\u001b[38;5;241m=\u001b[39m\u001b[38;5;28;01mTrue\u001b[39;00m)\n\u001b[0;32m    400\u001b[0m \u001b[38;5;66;03m# external renderers\u001b[39;00m\n",
      "\u001b[1;31mValueError\u001b[0m: Mime type rendering requires nbformat>=4.2.0 but it is not installed"
     ]
    }
   ],
   "source": [
    "# Option 1: Full Repeal - Animated Multi-Year Analysis\n",
    "print(\"Creating animated graphs for Option 1: Full Repeal...\")\n",
    "\n",
    "# Filter data for Option 1\n",
    "option1_df = combined_df[combined_df['reform'] == \"Option 1: Full Repeal\"].copy()\n",
    "\n",
    "# Create and display animated change in net income graph\n",
    "fig1_change = create_animated_change_graph(option1_df, \"Option 1: Full Repeal\")\n",
    "fig1_change.show()\n",
    "\n",
    "# Create and display animated comparison graph\n",
    "fig1_comparison = create_animated_comparison_graph(option1_df, \"Option 1: Full Repeal\")\n",
    "fig1_comparison.show()\n",
    "\n",
    "print(\"Option 1 animated graphs created!\")"
   ]
  },
  {
   "cell_type": "markdown",
   "metadata": {},
   "source": [
    "## Option 2: Taxation of 85% of Social Security Benefits\n",
    "\n",
    "This option taxes 85% of Social Security benefits for all recipients, regardless of income level, eliminating the current threshold system."
   ]
  },
  {
   "cell_type": "code",
   "execution_count": null,
   "metadata": {
    "execution": {
     "iopub.execute_input": "2025-09-19T20:31:28.209305Z",
     "iopub.status.busy": "2025-09-19T20:31:28.209305Z",
     "iopub.status.idle": "2025-09-19T20:32:01.265617Z",
     "shell.execute_reply": "2025-09-19T20:32:01.265617Z"
    },
    "tags": [
     "hide-input"
    ]
   },
   "outputs": [],
   "source": [
    "# Option 2: 85% Taxation - Animated Multi-Year Analysis\n",
    "print(\"Creating animated graphs for Option 2: 85% Taxation...\")\n",
    "\n",
    "# Filter data for Option 2\n",
    "option2_df = combined_df[combined_df['reform'] == \"Option 2: 85% Taxation\"].copy()\n",
    "\n",
    "# Create and display animated change in net income graph\n",
    "fig2_change = create_animated_change_graph(option2_df, \"Option 2: 85% Taxation\")\n",
    "fig2_change.show()\n",
    "\n",
    "# Create and display animated comparison graph\n",
    "fig2_comparison = create_animated_comparison_graph(option2_df, \"Option 2: 85% Taxation\")\n",
    "fig2_comparison.show()\n",
    "\n",
    "print(\"Option 2 animated graphs created!\")"
   ]
  },
  {
   "cell_type": "markdown",
   "metadata": {},
   "source": [
    "## Option 3: 85% Taxation with Permanent Senior Deduction Extension\n",
    "\n",
    "This option combines taxation of 85% of benefits with a permanent extension of the senior deduction that would otherwise expire in 2028."
   ]
  },
  {
   "cell_type": "code",
   "execution_count": null,
   "metadata": {
    "execution": {
     "iopub.execute_input": "2025-09-19T20:32:01.269584Z",
     "iopub.status.busy": "2025-09-19T20:32:01.269584Z",
     "iopub.status.idle": "2025-09-19T20:32:28.920561Z",
     "shell.execute_reply": "2025-09-19T20:32:28.920561Z"
    },
    "tags": [
     "hide-input"
    ]
   },
   "outputs": [],
   "source": [
    "# Option 3: 85% with Senior Deduction - Animated Multi-Year Analysis\n",
    "print(\"Creating animated graphs for Option 3: 85% with Senior Deduction...\")\n",
    "\n",
    "# Filter data for Option 3\n",
    "option3_df = combined_df[combined_df['reform'] == \"Option 3: 85% with Senior Deduction\"].copy()\n",
    "\n",
    "# Create and display animated change in net income graph\n",
    "fig3_change = create_animated_change_graph(option3_df, \"Option 3: 85% with Senior Deduction\")\n",
    "fig3_change.show()\n",
    "\n",
    "# Create and display animated comparison graph\n",
    "fig3_comparison = create_animated_comparison_graph(option3_df, \"Option 3: 85% with Senior Deduction\")\n",
    "fig3_comparison.show()\n",
    "\n",
    "print(\"Option 3 animated graphs created!\")"
   ]
  },
  {
   "cell_type": "markdown",
   "metadata": {},
   "source": [
    "## Option 4: Social Security Tax Credit System ($500 Credit)\n",
    "\n",
    "This option replaces the senior deduction with a $500 nonrefundable tax credit while taxing 85% of benefits."
   ]
  },
  {
   "cell_type": "code",
   "execution_count": null,
   "metadata": {
    "execution": {
     "iopub.execute_input": "2025-09-19T20:32:28.920561Z",
     "iopub.status.busy": "2025-09-19T20:32:28.920561Z",
     "iopub.status.idle": "2025-09-19T20:32:53.488182Z",
     "shell.execute_reply": "2025-09-19T20:32:53.488182Z"
    },
    "tags": [
     "hide-input"
    ]
   },
   "outputs": [],
   "source": [
    "# Option 4: Tax Credit System - Animated Multi-Year Analysis\n",
    "print(\"Creating animated graphs for Option 4: $500 Tax Credit...\")\n",
    "\n",
    "# Filter data for Option 4\n",
    "option4_df = combined_df[combined_df['reform'] == \"Option 4: $500 Tax Credit\"].copy()\n",
    "\n",
    "# Create and display animated change in net income graph\n",
    "fig4_change = create_animated_change_graph(option4_df, \"Option 4: $500 Tax Credit\")\n",
    "fig4_change.show()\n",
    "\n",
    "# Create and display animated comparison graph\n",
    "fig4_comparison = create_animated_comparison_graph(option4_df, \"Option 4: $500 Tax Credit\")\n",
    "fig4_comparison.show()\n",
    "\n",
    "print(\"Option 4 animated graphs created!\")"
   ]
  },
  {
   "cell_type": "markdown",
   "metadata": {},
   "source": [
    "## Option 5: Roth-Style Swap\n",
    "\n",
    "This option eliminates Social Security benefit taxation while making employer payroll contributions taxable income."
   ]
  },
  {
   "cell_type": "code",
   "execution_count": null,
   "metadata": {
    "execution": {
     "iopub.execute_input": "2025-09-19T20:32:53.490187Z",
     "iopub.status.busy": "2025-09-19T20:32:53.490187Z",
     "iopub.status.idle": "2025-09-19T20:33:18.096533Z",
     "shell.execute_reply": "2025-09-19T20:33:18.096029Z"
    },
    "tags": [
     "hide-input"
    ]
   },
   "outputs": [],
   "source": [
    "# Option 5: Roth-Style Swap - Animated Multi-Year Analysis\n",
    "print(\"Creating animated graphs for Option 5: Roth-Style Swap...\")\n",
    "\n",
    "# Filter data for Option 5\n",
    "option5_df = combined_df[combined_df['reform'] == \"Option 5: Roth-Style Swap\"].copy()\n",
    "\n",
    "# Create and display animated change in net income graph\n",
    "fig5_change = create_animated_change_graph(option5_df, \"Option 5: Roth-Style Swap\")\n",
    "fig5_change.show()\n",
    "\n",
    "# Create and display animated comparison graph\n",
    "fig5_comparison = create_animated_comparison_graph(option5_df, \"Option 5: Roth-Style Swap\")\n",
    "fig5_comparison.show()\n",
    "\n",
    "print(\"Option 5 animated graphs created!\")"
   ]
  },
  {
   "cell_type": "markdown",
   "metadata": {},
   "source": [
    "## Option 6: Phased Roth-Style Swap\n",
    "\n",
    "This option implements a gradual transition to the Roth-style system over multiple years, phasing in employer contribution taxation while phasing out benefit taxation."
   ]
  },
  {
   "cell_type": "code",
   "execution_count": null,
   "metadata": {
    "execution": {
     "iopub.execute_input": "2025-09-19T20:33:18.098012Z",
     "iopub.status.busy": "2025-09-19T20:33:18.098012Z",
     "iopub.status.idle": "2025-09-19T20:33:41.674710Z",
     "shell.execute_reply": "2025-09-19T20:33:41.674710Z"
    },
    "tags": [
     "hide-input"
    ]
   },
   "outputs": [],
   "source": [
    "# Option 6: Phased Roth-Style - Animated Multi-Year Analysis\n",
    "print(\"Creating animated graphs for Option 6: Phased Roth-Style...\")\n",
    "\n",
    "# Filter data for Option 6\n",
    "option6_df = combined_df[combined_df['reform'] == \"Option 6: Phased Roth-Style\"].copy()\n",
    "\n",
    "# Create and display animated change in net income graph\n",
    "fig6_change = create_animated_change_graph(option6_df, \"Option 6: Phased Roth-Style\")\n",
    "fig6_change.show()\n",
    "\n",
    "# Create and display animated comparison graph\n",
    "fig6_comparison = create_animated_comparison_graph(option6_df, \"Option 6: Phased Roth-Style\")\n",
    "fig6_comparison.show()\n",
    "\n",
    "print(\"Option 6 animated graphs created!\")"
   ]
  },
  {
   "cell_type": "markdown",
   "metadata": {},
   "source": [
    "## Option 7: Eliminate Bonus Senior Deduction\n",
    "\n",
    "This option eliminates the $6,000 bonus senior deduction from the One Big Beautiful Bill that includes a 6% phase-out beginning at $75k for single filers and $150k for joint filers. Since this deduction expires in 2029, Option 7 only has revenue impact from 2026-2028."
   ]
  },
  {
   "cell_type": "code",
   "execution_count": null,
   "metadata": {
    "cell_metadata": {
     "tags": [
      "hide-input"
     ]
    },
    "execution": {
     "iopub.execute_input": "2025-09-19T20:33:41.674710Z",
     "iopub.status.busy": "2025-09-19T20:33:41.674710Z",
     "iopub.status.idle": "2025-09-19T20:34:06.013728Z",
     "shell.execute_reply": "2025-09-19T20:34:06.013728Z"
    },
    "mystnb": {
     "tags": [
      "hide-input"
     ]
    },
    "tags": [
     "hide-input"
    ]
   },
   "outputs": [],
   "source": [
    "# Option 7: Eliminate Senior Deduction - Animated Multi-Year Analysis\n",
    "print(\"Creating animated graphs for Option 7: Eliminate Senior Deduction...\")\n",
    "\n",
    "# Filter data for Option 7\n",
    "option7_df = combined_df[combined_df['reform'] == \"Option 7: Eliminate Senior Deduction\"].copy()\n",
    "\n",
    "# Create and display animated change in net income graph\n",
    "fig7_change = create_animated_change_graph(option7_df, \"Option 7: Eliminate Senior Deduction\")\n",
    "fig7_change.show()\n",
    "\n",
    "# Create and display animated comparison graph\n",
    "fig7_comparison = create_animated_comparison_graph(option7_df, \"Option 7: Eliminate Senior Deduction\")\n",
    "fig7_comparison.show()\n",
    "\n",
    "print(\"Option 7 animated graphs created!\")"
   ]
  }
 ],
 "metadata": {
  "kernelspec": {
   "display_name": "pe",
   "language": "python",
   "name": "python3"
  },
  "language_info": {
   "codemirror_mode": {
    "name": "ipython",
    "version": 3
   },
   "file_extension": ".py",
   "mimetype": "text/x-python",
   "name": "python",
   "nbconvert_exporter": "python",
   "pygments_lexer": "ipython3",
   "version": "3.12.10"
  }
 },
 "nbformat": 4,
 "nbformat_minor": 4
}
