{
 "cells": [
  {
   "cell_type": "markdown",
   "metadata": {},
   "source": [
    "# Household Impacts Analysis\n",
    "\n",
    "This section analyzes the impact of each reform option on a representative elderly married couple household with \\$30,000 in Social Security benefits, examining how the reforms affect their net income across different employment income levels."
   ]
  },
  {
   "cell_type": "code",
   "execution_count": null,
   "metadata": {
    "tags": [
     "hide-input"
    ]
   },
   "outputs": [],
   "source": "from IPython.display import Markdown\nimport plotly.express as px\nimport plotly.graph_objects as go\nimport pandas as pd\nfrom policyengine_us import Simulation\nfrom policyengine_core.reforms import Reform\n\n# Define PolicyEngine's color palette\nBLACK = \"#000000\"\nBLUE_LIGHT = \"#D8E6F3\"\nBLUE_PRIMARY = \"#2C6496\"\nDARK_BLUE_HOVER = \"#1d3e5e\"\nDARK_GRAY = \"#616161\"\nDARKEST_BLUE = \"#0C1A27\"\nGRAY = \"#808080\"\nLIGHT_GRAY = \"#F2F2F2\"\nMEDIUM_DARK_GRAY = \"#D2D2D2\"\nMEDIUM_LIGHT_GRAY = \"#BDBDBD\"\nWHITE = \"#FFFFFF\""
  },
  {
   "cell_type": "markdown",
   "metadata": {},
   "source": [
    "## Define Household Situation\n",
    "\n",
    "We analyze an elderly married couple (both age 70) with \\$30,000 in Social Security retirement benefits, living in Florida. We examine how their net income changes across employment income levels from \\$0 to \\$200,000."
   ]
  },
  {
   "cell_type": "code",
   "execution_count": null,
   "metadata": {
    "tags": [
     "hide-input"
    ]
   },
   "outputs": [],
   "source": [
    "# Define the household situation\n",
    "situation = {\n",
    "  \"people\": {\n",
    "    \"you\": {\n",
    "      \"age\": {\n",
    "        \"2026\": 70\n",
    "      },\n",
    "      \"social_security_retirement\": {\n",
    "        \"2026\": 30000\n",
    "      }\n",
    "    },\n",
    "    \"your partner\": {\n",
    "      \"age\": {\n",
    "        \"2026\": 70\n",
    "      }\n",
    "    }\n",
    "  },\n",
    "  \"families\": {\n",
    "    \"your family\": {\n",
    "      \"members\": [\n",
    "        \"you\",\n",
    "        \"your partner\"\n",
    "      ]\n",
    "    }\n",
    "  },\n",
    "  \"marital_units\": {\n",
    "    \"your marital unit\": {\n",
    "      \"members\": [\n",
    "        \"you\",\n",
    "        \"your partner\"\n",
    "      ]\n",
    "    }\n",
    "  },\n",
    "  \"tax_units\": {\n",
    "    \"your tax unit\": {\n",
    "      \"members\": [\n",
    "        \"you\",\n",
    "        \"your partner\"\n",
    "      ]\n",
    "    }\n",
    "  },\n",
    "  \"spm_units\": {\n",
    "    \"your household\": {\n",
    "      \"members\": [\n",
    "        \"you\",\n",
    "        \"your partner\"\n",
    "      ]\n",
    "    }\n",
    "  },\n",
    "  \"households\": {\n",
    "    \"your household\": {\n",
    "      \"members\": [\n",
    "        \"you\",\n",
    "        \"your partner\"\n",
    "      ],\n",
    "      \"state_name\": {\n",
    "        \"2026\": \"FL\"\n",
    "      }\n",
    "    }\n",
    "  },\n",
    "  \"axes\": [\n",
    "    [\n",
    "      {\n",
    "        \"name\": \"employment_income\",\n",
    "        \"count\": 401,\n",
    "        \"min\": 0,\n",
    "        \"max\": 200000,\n",
    "        \"period\": \"2026\"\n",
    "      }\n",
    "    ]\n",
    "  ]\n",
    "}"
   ]
  },
  {
   "cell_type": "markdown",
   "metadata": {},
   "source": [
    "## Define Reform Options\n",
    "\n",
    "We analyze six different reform options for Social Security taxation:"
   ]
  },
  {
   "cell_type": "code",
   "execution_count": null,
   "metadata": {
    "tags": [
     "hide-input"
    ]
   },
   "outputs": [],
   "source": [
    "# Define all reform options\n",
    "reforms = {\n",
    "    \"Option 1: Full Repeal\": Reform.from_dict({\n",
    "      \"gov.irs.social_security.taxability.rate.base\": {\n",
    "        \"2026-01-01.2100-12-31\": 0\n",
    "      },\n",
    "      \"gov.irs.social_security.taxability.rate.additional\": {\n",
    "        \"2026-01-01.2100-12-31\": 0\n",
    "      }\n",
    "    }, country_id=\"us\"),\n",
    "    \n",
    "    \"Option 2: Tax 85% of All SS\": Reform.from_dict({\n",
    "      \"gov.irs.social_security.taxability.rate.base\": {\n",
    "        \"2026-01-01.2100-12-31\": 0.85\n",
    "      },\n",
    "      \"gov.irs.social_security.taxability.threshold.base.main.JOINT\": {\n",
    "        \"2026-01-01.2100-12-31\": 0\n",
    "      },\n",
    "      \"gov.irs.social_security.taxability.threshold.base.main.SINGLE\": {\n",
    "        \"2026-01-01.2100-12-31\": 0\n",
    "      },\n",
    "      \"gov.irs.social_security.taxability.threshold.base.main.SEPARATE\": {\n",
    "        \"2026-01-01.2100-12-31\": 0\n",
    "      },\n",
    "      \"gov.irs.social_security.taxability.threshold.base.main.SURVIVING_SPOUSE\": {\n",
    "        \"2026-01-01.2100-12-31\": 0\n",
    "      },\n",
    "      \"gov.irs.social_security.taxability.threshold.base.main.HEAD_OF_HOUSEHOLD\": {\n",
    "        \"2026-01-01.2100-12-31\": 0\n",
    "      }\n",
    "    }, country_id=\"us\"),\n",
    "    \n",
    "    \"Option 3: Tax 85% + Senior Deduction\": Reform.from_dict({\n",
    "      \"gov.irs.social_security.taxability.rate.base\": {\n",
    "        \"2026-01-01.2100-12-31\": 0.85\n",
    "      },\n",
    "      \"gov.irs.social_security.taxability.threshold.base.main.JOINT\": {\n",
    "        \"2026-01-01.2100-12-31\": 0\n",
    "      },\n",
    "      \"gov.irs.social_security.taxability.threshold.base.main.SINGLE\": {\n",
    "        \"2026-01-01.2100-12-31\": 0\n",
    "      },\n",
    "      \"gov.irs.social_security.taxability.threshold.base.main.SEPARATE\": {\n",
    "        \"2026-01-01.2100-12-31\": 0\n",
    "      },\n",
    "      \"gov.irs.social_security.taxability.threshold.base.main.SURVIVING_SPOUSE\": {\n",
    "        \"2026-01-01.2100-12-31\": 0\n",
    "      },\n",
    "      \"gov.irs.social_security.taxability.threshold.base.main.HEAD_OF_HOUSEHOLD\": {\n",
    "        \"2026-01-01.2100-12-31\": 0\n",
    "      },\n",
    "      \"gov.contrib.crfb.senior_deduction_extension.applies\": {\n",
    "        \"2026-01-01.2100-12-31\": True\n",
    "      }\n",
    "    }, country_id=\"us\"),\n",
    "    \n",
    "    \"Option 4: Tax 85% + \\\\$500 Credit\": Reform.from_dict({\n",
    "      \"gov.irs.social_security.taxability.rate.base\": {\n",
    "        \"2026-01-01.2100-12-31\": 0.85\n",
    "      },\n",
    "      \"gov.irs.social_security.taxability.threshold.base.main.JOINT\": {\n",
    "        \"2026-01-01.2100-12-31\": 0\n",
    "      },\n",
    "      \"gov.irs.social_security.taxability.threshold.base.main.SINGLE\": {\n",
    "        \"2026-01-01.2100-12-31\": 0\n",
    "      },\n",
    "      \"gov.irs.social_security.taxability.threshold.base.main.SEPARATE\": {\n",
    "        \"2026-01-01.2100-12-31\": 0\n",
    "      },\n",
    "      \"gov.irs.social_security.taxability.threshold.base.main.SURVIVING_SPOUSE\": {\n",
    "        \"2026-01-01.2100-12-31\": 0\n",
    "      },\n",
    "      \"gov.irs.social_security.taxability.threshold.base.main.HEAD_OF_HOUSEHOLD\": {\n",
    "        \"2026-01-01.2100-12-31\": 0\n",
    "      },\n",
    "      \"gov.contrib.crfb.ss_credit.in_effect\": {\n",
    "        \"2026-01-01.2100-12-31\": True\n",
    "      },\n",
    "      \"gov.contrib.crfb.ss_credit.amount.JOINT\": {\n",
    "        \"2026-01-01.2100-12-31\": 500\n",
    "      },\n",
    "      \"gov.contrib.crfb.ss_credit.amount.SINGLE\": {\n",
    "        \"2026-01-01.2100-12-31\": 500\n",
    "      },\n",
    "      \"gov.contrib.crfb.ss_credit.amount.SEPARATE\": {\n",
    "        \"2026-01-01.2100-12-31\": 500\n",
    "      },\n",
    "      \"gov.contrib.crfb.ss_credit.amount.SURVIVING_SPOUSE\": {\n",
    "        \"2026-01-01.2100-12-31\": 500\n",
    "      },\n",
    "      \"gov.contrib.crfb.ss_credit.amount.HEAD_OF_HOUSEHOLD\": {\n",
    "        \"2026-01-01.2100-12-31\": 500\n",
    "      }\n",
    "    }, country_id=\"us\"),\n",
    "    \n",
    "    \"Option 5: Roth-Style Swap\": Reform.from_dict({\n",
    "      \"gov.irs.social_security.taxability.rate.base\": {\n",
    "        \"2026-01-01.2100-12-31\": 0\n",
    "      },\n",
    "      \"gov.irs.social_security.taxability.rate.additional\": {\n",
    "        \"2026-01-01.2100-12-31\": 0\n",
    "      },\n",
    "      \"gov.contrib.crfb.tax_employer_payroll_tax.in_effect\": {\n",
    "        \"2026-01-01.2100-12-31\": True\n",
    "      },\n",
    "      \"gov.contrib.crfb.tax_employer_payroll_tax.percentage\": {\n",
    "        \"2026-01-01.2100-12-31\": 1.0\n",
    "      }\n",
    "    }, country_id=\"us\"),\n",
    "    \n",
    "    \"Option 6: Phased Roth Swap\": Reform.from_dict({\n",
    "      \"gov.contrib.crfb.tax_employer_payroll_tax.in_effect\": {\n",
    "        \"2026-01-01.2100-12-31\": True\n",
    "      },\n",
    "      \"gov.contrib.crfb.tax_employer_payroll_tax.percentage\": {\n",
    "        \"2026-01-01.2026-12-31\": 0.13,\n",
    "        \"2027-01-01.2027-12-31\": 0.26,\n",
    "        \"2028-01-01.2028-12-31\": 0.39\n",
    "      }\n",
    "    }, country_id=\"us\")\n",
    "}"
   ]
  },
  {
   "cell_type": "markdown",
   "metadata": {},
   "source": [
    "## Calculate Impact for Each Reform"
   ]
  },
  {
   "cell_type": "code",
   "execution_count": null,
   "metadata": {
    "tags": [
     "hide-input"
    ]
   },
   "outputs": [],
   "source": "# Calculate baseline net income\nsimulation_baseline = Simulation(situation=situation)\nbaseline_net_income = simulation_baseline.calculate(\"household_net_income\", 2026)\n\n# Pull employment income values from the simulation\nemployment_income = simulation_baseline.calculate(\"employment_income\", 2026)[0].tolist()\n\n# Calculate reform impacts\nresults = {}\nchanges = {}\n\nfor name, reform in reforms.items():\n    simulation_reform = Simulation(reform=reform, situation=situation)\n    reform_net_income = simulation_reform.calculate(\"household_net_income\", 2026)\n    results[name] = reform_net_income\n    changes[name] = reform_net_income - baseline_net_income"
  },
  {
   "cell_type": "markdown",
   "metadata": {},
   "source": [
    "## Option 1: Full Repeal of SS Taxation"
   ]
  },
  {
   "cell_type": "code",
   "execution_count": null,
   "metadata": {
    "tags": [
     "hide-input"
    ]
   },
   "outputs": [],
   "source": [
    "# Option 1: Change in Net Income graph code\n",
    "print(\"Option 1 Change Graph\")"
   ]
  },
  {
   "cell_type": "markdown",
   "metadata": {},
   "source": [
    "![Option 1 Change Graph](option1_change.png)"
   ]
  },
  {
   "cell_type": "code",
   "execution_count": null,
   "metadata": {
    "tags": [
     "hide-input"
    ]
   },
   "outputs": [],
   "source": [
    "# Option 1: Comparison graph code\n",
    "print(\"Option 1 Comparison Graph\")"
   ]
  },
  {
   "cell_type": "markdown",
   "metadata": {},
   "source": [
    "![Option 1 Comparison Graph](option1_comparison.png)"
   ]
  },
  {
   "cell_type": "markdown",
   "metadata": {},
   "source": [
    "## Option 2: Tax 85% of All SS Benefits"
   ]
  },
  {
   "cell_type": "code",
   "execution_count": null,
   "metadata": {
    "tags": [
     "hide-input"
    ]
   },
   "outputs": [],
   "source": [
    "# Option 2: Change in Net Income graph code\n",
    "print(\"Option 2 Change Graph\")"
   ]
  },
  {
   "cell_type": "markdown",
   "metadata": {},
   "source": [
    "![Option 2 Change Graph](option2_change.png)"
   ]
  },
  {
   "cell_type": "code",
   "execution_count": null,
   "metadata": {
    "tags": [
     "hide-input"
    ]
   },
   "outputs": [],
   "source": [
    "# Option 2: Comparison graph code\n",
    "print(\"Option 2 Comparison Graph\")"
   ]
  },
  {
   "cell_type": "markdown",
   "metadata": {},
   "source": [
    "![Option 2 Comparison Graph](option2_comparison.png)"
   ]
  },
  {
   "cell_type": "markdown",
   "metadata": {},
   "source": [
    "## Option 3: Tax 85% + Senior Deduction"
   ]
  },
  {
   "cell_type": "code",
   "execution_count": null,
   "metadata": {
    "tags": [
     "hide-input"
    ]
   },
   "outputs": [],
   "source": [
    "# Option 3: Change in Net Income graph code\n",
    "print(\"Option 3 Change Graph\")"
   ]
  },
  {
   "cell_type": "markdown",
   "metadata": {},
   "source": [
    "![Option 3 Change Graph](option3_change.png)"
   ]
  },
  {
   "cell_type": "code",
   "execution_count": null,
   "metadata": {
    "tags": [
     "hide-input"
    ]
   },
   "outputs": [],
   "source": [
    "# Option 3: Comparison graph code\n",
    "print(\"Option 3 Comparison Graph\")"
   ]
  },
  {
   "cell_type": "markdown",
   "metadata": {},
   "source": [
    "![Option 3 Comparison Graph](option3_comparison.png)"
   ]
  },
  {
   "cell_type": "markdown",
   "metadata": {},
   "source": [
    "## Option 4: Tax 85% + \\$500 Credit"
   ]
  },
  {
   "cell_type": "code",
   "execution_count": null,
   "metadata": {
    "tags": [
     "hide-input"
    ]
   },
   "outputs": [],
   "source": [
    "# Option 4: Change in Net Income graph code\n",
    "print(\"Option 4 Change Graph\")"
   ]
  },
  {
   "cell_type": "markdown",
   "metadata": {},
   "source": [
    "![Option 4 Change Graph](option4_change.png)"
   ]
  },
  {
   "cell_type": "code",
   "execution_count": null,
   "metadata": {
    "tags": [
     "hide-input"
    ]
   },
   "outputs": [],
   "source": [
    "# Option 4: Comparison graph code\n",
    "print(\"Option 4 Comparison Graph\")"
   ]
  },
  {
   "cell_type": "markdown",
   "metadata": {},
   "source": [
    "![Option 4 Comparison Graph](option4_comparison.png)"
   ]
  },
  {
   "cell_type": "markdown",
   "metadata": {},
   "source": [
    "## Option 5: Roth-Style Swap"
   ]
  },
  {
   "cell_type": "code",
   "execution_count": null,
   "metadata": {
    "tags": [
     "hide-input"
    ]
   },
   "outputs": [],
   "source": [
    "# Option 5: Change in Net Income graph code\n",
    "print(\"Option 5 Change Graph\")"
   ]
  },
  {
   "cell_type": "markdown",
   "metadata": {},
   "source": [
    "![Option 5 Change Graph](option5_change.png)"
   ]
  },
  {
   "cell_type": "code",
   "execution_count": null,
   "metadata": {
    "tags": [
     "hide-input"
    ]
   },
   "outputs": [],
   "source": [
    "# Option 5: Comparison graph code\n",
    "print(\"Option 5 Comparison Graph\")"
   ]
  },
  {
   "cell_type": "markdown",
   "metadata": {},
   "source": [
    "![Option 5 Comparison Graph](option5_comparison.png)"
   ]
  },
  {
   "cell_type": "markdown",
   "metadata": {},
   "source": [
    "## Option 6: Phased Roth Swap"
   ]
  },
  {
   "cell_type": "code",
   "execution_count": null,
   "metadata": {
    "tags": [
     "hide-input"
    ]
   },
   "outputs": [],
   "source": [
    "# Option 6: Change in Net Income graph code\n",
    "print(\"Option 6 Change Graph\")"
   ]
  },
  {
   "cell_type": "markdown",
   "metadata": {},
   "source": [
    "![Option 6 Change Graph](option6_change.png)"
   ]
  },
  {
   "cell_type": "code",
   "execution_count": null,
   "metadata": {
    "tags": [
     "hide-input"
    ]
   },
   "outputs": [],
   "source": [
    "# Option 6: Comparison graph code\n",
    "print(\"Option 6 Comparison Graph\")"
   ]
  },
  {
   "cell_type": "markdown",
   "metadata": {},
   "source": [
    "![Option 6 Comparison Graph](option6_comparison.png)"
   ]
  },
  {
   "cell_type": "markdown",
   "metadata": {},
   "source": [
    "## Summary Table: Impact at Key Income Levels"
   ]
  },
  {
   "cell_type": "code",
   "execution_count": null,
   "metadata": {
    "tags": [
     "hide-input"
    ]
   },
   "outputs": [],
   "source": "# Create summary table at key income levels\nkey_incomes = [0, 25000, 50000, 75000, 100000, 150000, 200000]\nsummary_data = []\n\nfor income in key_incomes:\n    index = income // 500\n    row = {\"Employment Income\": f\"\\\\${income:,}\"}\n    for name, change in changes.items():\n        short_name = name.replace(\"Option \", \"Opt \")\n        row[short_name] = f\"\\\\${change[index]:,.0f}\"\n    summary_data.append(row)\n\ndf_summary = pd.DataFrame(summary_data)\n\n# Save as CSV for download\ndf_summary.to_csv('_static/household_impacts_summary.csv', index=False)\n\n# Display the table\ndisplay(df_summary)"
  },
  {
   "cell_type": "markdown",
   "source": "| Employment Income   | Opt 1: Full Repeal   | Opt 2: Tax 85% of All SS   | Opt 3: Tax 85% + Senior Deduction   | Opt 4: Tax 85% + \\$500 Credit   | Opt 5: Roth-Style Swap   | Opt 6: Phased Roth Swap   |\n|:--------------------|:---------------------|:---------------------------|:------------------------------------|:-------------------------------|:-------------------------|:--------------------------|\n| \\$0                  | \\$0                   | \\$0                         | \\$0                                  | \\$0                             | \\$0                       | \\$0                        |\n| \\$25,000             | \\$0                   | \\$-260                      | \\$-260                               | \\$0                             | \\$0                       | \\$0                        |\n| \\$50,000             | \\$2,427               | \\$-198                      | \\$-198                               | \\$302                           | \\$2,044                   | \\$-60                      |\n| \\$75,000             | \\$3,060               | \\$0                         | \\$0                                  | \\$500                           | \\$2,372                   | \\$-90                      |\n| \\$100,000            | \\$3,060               | \\$0                         | \\$0                                  | \\$500                           | \\$2,142                   | \\$-119                     |\n| \\$150,000            | \\$5,947               | \\$0                         | \\$0                                  | \\$500                           | \\$3,271                   | \\$-348                     |\n| \\$200,000            | \\$5,947               | \\$0                         | \\$0                                  | \\$500                           | \\$2,581                   | \\$-438                     |\n\n<a href=\"_static/household_impacts_summary.csv\" download=\"household_impacts_summary.csv\" class=\"csv-download-btn\">📊 Download Summary CSV</a>",
   "metadata": {}
  }
 ],
 "metadata": {
  "kernelspec": {
   "display_name": "Python 3",
   "language": "python",
   "name": "python3"
  },
  "language_info": {
   "codemirror_mode": {
    "name": "ipython",
    "version": 3
   },
   "file_extension": ".py",
   "name": "python",
   "nbconvert_exporter": "python",
   "pygments_lexer": "ipython3",
   "version": "3.11.0"
  }
 },
 "nbformat": 4,
 "nbformat_minor": 4
}