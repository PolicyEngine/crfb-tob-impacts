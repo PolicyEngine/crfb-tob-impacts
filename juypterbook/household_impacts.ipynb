{
 "cells": [
  {
   "cell_type": "markdown",
   "metadata": {},
   "source": [
    "# Household Impacts Analysis\n",
    "\n",
    "This section analyzes the impact of each reform option on a representative elderly married couple household with $30,000 in Social Security benefits, examining how the reforms affect their net income across different employment income levels."
   ]
  },
  {
   "cell_type": "code",
   "execution_count": null,
   "metadata": {},
   "outputs": [],
   "source": [
    "from IPython.display import Markdown\n",
    "import plotly.express as px\n",
    "import plotly.graph_objects as go\n",
    "import pandas as pd\n",
    "from policyengine_us import Simulation\n",
    "from policyengine_core.reforms import Reform\n",
    "\n",
    "# Define PolicyEngine's color palette\n",
    "BLACK = \"#000000\"\n",
    "BLUE_LIGHT = \"#D8E6F3\"\n",
    "BLUE_PRIMARY = \"#2C6496\"\n",
    "DARK_BLUE_HOVER = \"#1d3e5e\"\n",
    "DARK_GRAY = \"#616161\"\n",
    "DARKEST_BLUE = \"#0C1A27\"\n",
    "GRAY = \"#808080\"\n",
    "LIGHT_GRAY = \"#F2F2F2\"\n",
    "MEDIUM_DARK_GRAY = \"#D2D2D2\"\n",
    "MEDIUM_LIGHT_GRAY = \"#BDBDBD\"\n",
    "WHITE = \"#FFFFFF\""
   ]
  },
  {
   "cell_type": "markdown",
   "metadata": {},
   "source": [
    "## Define Household Situation\n",
    "\n",
    "We analyze an elderly married couple (both age 70) with $30,000 in Social Security retirement benefits, living in Florida. We examine how their net income changes across employment income levels from $0 to $200,000."
   ]
  },
  {
   "cell_type": "code",
   "execution_count": null,
   "metadata": {},
   "outputs": [],
   "source": [
    "# Define the household situation\n",
    "situation = {\n",
    "  \"people\": {\n",
    "    \"you\": {\n",
    "      \"age\": {\n",
    "        \"2026\": 70\n",
    "      },\n",
    "      \"social_security_retirement\": {\n",
    "        \"2026\": 30000\n",
    "      }\n",
    "    },\n",
    "    \"your partner\": {\n",
    "      \"age\": {\n",
    "        \"2026\": 70\n",
    "      }\n",
    "    }\n",
    "  },\n",
    "  \"families\": {\n",
    "    \"your family\": {\n",
    "      \"members\": [\n",
    "        \"you\",\n",
    "        \"your partner\"\n",
    "      ]\n",
    "    }\n",
    "  },\n",
    "  \"marital_units\": {\n",
    "    \"your marital unit\": {\n",
    "      \"members\": [\n",
    "        \"you\",\n",
    "        \"your partner\"\n",
    "      ]\n",
    "    }\n",
    "  },\n",
    "  \"tax_units\": {\n",
    "    \"your tax unit\": {\n",
    "      \"members\": [\n",
    "        \"you\",\n",
    "        \"your partner\"\n",
    "      ]\n",
    "    }\n",
    "  },\n",
    "  \"spm_units\": {\n",
    "    \"your household\": {\n",
    "      \"members\": [\n",
    "        \"you\",\n",
    "        \"your partner\"\n",
    "      ]\n",
    "    }\n",
    "  },\n",
    "  \"households\": {\n",
    "    \"your household\": {\n",
    "      \"members\": [\n",
    "        \"you\",\n",
    "        \"your partner\"\n",
    "      ],\n",
    "      \"state_name\": {\n",
    "        \"2026\": \"FL\"\n",
    "      }\n",
    "    }\n",
    "  },\n",
    "  \"axes\": [\n",
    "    [\n",
    "      {\n",
    "        \"name\": \"employment_income\",\n",
    "        \"count\": 401,\n",
    "        \"min\": 0,\n",
    "        \"max\": 200000\n",
    "        \"period\": \"2026\"\n",
    "      }\n",
    "    ]\n",
    "  ]\n",
    "}"
   ]
  },
  {
   "cell_type": "markdown",
   "metadata": {},
   "source": "## Define Reform Options\n\nWe analyze six different reform options for Social Security taxation:"
  },
  {
   "cell_type": "code",
   "execution_count": null,
   "metadata": {},
   "outputs": [],
   "source": "# Option 1: Full Repeal of SS Taxation\nreform_option1 = Reform.from_dict({\n  \"gov.irs.social_security.taxability.rate.base\": {\n    \"2026-01-01.2100-12-31\": 0\n  },\n  \"gov.irs.social_security.taxability.rate.additional\": {\n    \"2026-01-01.2100-12-31\": 0\n  }\n}, country_id=\"us\")\n\n# Option 2: Tax 85% of All SS Benefits\nreform_option2 = Reform.from_dict({\n  \"gov.irs.social_security.taxability.rate.base\": {\n    \"2026-01-01.2100-12-31\": 0.85\n  },\n  \"gov.irs.social_security.taxability.threshold.base.main.JOINT\": {\n    \"2026-01-01.2100-12-31\": 0\n  },\n  \"gov.irs.social_security.taxability.threshold.base.main.SINGLE\": {\n    \"2026-01-01.2100-12-31\": 0\n  },\n  \"gov.irs.social_security.taxability.threshold.base.main.SEPARATE\": {\n    \"2026-01-01.2100-12-31\": 0\n  },\n  \"gov.irs.social_security.taxability.threshold.base.main.SURVIVING_SPOUSE\": {\n    \"2026-01-01.2100-12-31\": 0\n  },\n  \"gov.irs.social_security.taxability.threshold.base.main.HEAD_OF_HOUSEHOLD\": {\n    \"2026-01-01.2100-12-31\": 0\n  }\n}, country_id=\"us\")\n\n# Option 3: Tax 85% of All SS Benefits with Extended Senior Deduction\nreform_option3 = Reform.from_dict({\n  \"gov.irs.social_security.taxability.rate.base\": {\n    \"2026-01-01.2100-12-31\": 0.85\n  },\n  \"gov.irs.social_security.taxability.threshold.base.main.JOINT\": {\n    \"2026-01-01.2100-12-31\": 0\n  },\n  \"gov.irs.social_security.taxability.threshold.base.main.SINGLE\": {\n    \"2026-01-01.2100-12-31\": 0\n  },\n  \"gov.irs.social_security.taxability.threshold.base.main.SEPARATE\": {\n    \"2026-01-01.2100-12-31\": 0\n  },\n  \"gov.irs.social_security.taxability.threshold.base.main.SURVIVING_SPOUSE\": {\n    \"2026-01-01.2100-12-31\": 0\n  },\n  \"gov.irs.social_security.taxability.threshold.base.main.HEAD_OF_HOUSEHOLD\": {\n    \"2026-01-01.2100-12-31\": 0\n  },\n  \"gov.irs.deductions.bonus_senior_deduction.amount\": {\n    \"2029-01-01.2100-12-31\": 6000\n  }\n}, country_id=\"us\")\n\n# Option 4: Tax 85% of All SS Benefits with $500 Credit\nreform_option4 = Reform.from_dict({\n  \"gov.irs.social_security.taxability.rate.base\": {\n    \"2026-01-01.2100-12-31\": 0.85\n  },\n  \"gov.irs.social_security.taxability.threshold.base.main.JOINT\": {\n    \"2026-01-01.2100-12-31\": 0\n  },\n  \"gov.irs.social_security.taxability.threshold.base.main.SINGLE\": {\n    \"2026-01-01.2100-12-31\": 0\n  },\n  \"gov.irs.social_security.taxability.threshold.base.main.SEPARATE\": {\n    \"2026-01-01.2100-12-31\": 0\n  },\n  \"gov.irs.social_security.taxability.threshold.base.main.SURVIVING_SPOUSE\": {\n    \"2026-01-01.2100-12-31\": 0\n  },\n  \"gov.irs.social_security.taxability.threshold.base.main.HEAD_OF_HOUSEHOLD\": {\n    \"2026-01-01.2100-12-31\": 0\n  },\n  \"gov.irs.social_security_tax_credit.amount.JOINT\": {\n    \"2026-01-01.2100-12-31\": 500\n  },\n  \"gov.irs.social_security_tax_credit.amount.SINGLE\": {\n    \"2026-01-01.2100-12-31\": 500\n  },\n  \"gov.irs.social_security_tax_credit.amount.SEPARATE\": {\n    \"2026-01-01.2100-12-31\": 500\n  },\n  \"gov.irs.social_security_tax_credit.amount.SURVIVING_SPOUSE\": {\n    \"2026-01-01.2100-12-31\": 500\n  },\n  \"gov.irs.social_security_tax_credit.amount.HEAD_OF_HOUSEHOLD\": {\n    \"2026-01-01.2100-12-31\": 500\n  }\n}, country_id=\"us\")\n\n# Option 5: Roth-Style Swap (Tax employer payroll, exempt SS benefits)\nreform_option5 = Reform.from_dict({\n  \"gov.irs.social_security.taxability.rate.base\": {\n    \"2026-01-01.2100-12-31\": 0\n  },\n  \"gov.irs.social_security.taxability.rate.additional\": {\n    \"2026-01-01.2100-12-31\": 0\n  },\n  \"gov.irs.payroll.social_security.employer_rate_taxable\": {\n    \"2026-01-01.2100-12-31\": 0.062\n  },\n  \"gov.irs.payroll.medicare.employer_rate_taxable\": {\n    \"2026-01-01.2100-12-31\": 0.0145\n  }\n}, country_id=\"us\")\n\n# Option 6: Phased Roth-Style Swap (simplified for 2026)\n# Year 1 of phase-in: 1% of employer contributions taxable\nreform_option6 = Reform.from_dict({\n  \"gov.irs.payroll.employer_rate_taxable\": {\n    \"2026-01-01.2026-12-31\": 0.01,\n    \"2027-01-01.2027-12-31\": 0.02,\n    \"2028-01-01.2028-12-31\": 0.03\n  }\n  # Social Security benefits remain at current law in 2026-2028\n  # Phase-down of SS taxation begins in 2029\n}, country_id=\"us\")\n\nreforms = {\n    \"Option 1: Full Repeal\": reform_option1,\n    \"Option 2: Tax 85% of All SS\": reform_option2,\n    \"Option 3: Tax 85% + Senior Deduction\": reform_option3,\n    \"Option 4: Tax 85% + $500 Credit\": reform_option4,\n    \"Option 5: Roth-Style Swap\": reform_option5,\n    \"Option 6: Phased Roth Swap\": reform_option6\n}"
  },
  {
   "cell_type": "markdown",
   "metadata": {},
   "source": [
    "## Calculate Impact for Each Reform"
   ]
  },
  {
   "cell_type": "code",
   "execution_count": null,
   "metadata": {},
   "outputs": [],
   "source": [
    "# Calculate baseline net income\n",
    "simulation_baseline = Simulation(situation=situation)\n",
    "baseline_net_income = simulation_baseline.calculate(\"household_net_income\", 2026)\n",
    "\n",
    "# Calculate reform impacts\n",
    "results = {}\n",
    "changes = {}\n",
    "\n",
    "for name, reform in reforms.items():\n",
    "    simulation_reform = Simulation(reform=reform, situation=situation)\n",
    "    reform_net_income = simulation_reform.calculate(\"household_net_income\", 2026)\n",
    "    results[name] = reform_net_income\n",
    "    changes[name] = reform_net_income - baseline_net_income\n",
    "\n",
    "# Create employment income array\n",
    "employment_income = [i * 500 for i in range(401)]"
   ]
  },
  {
   "cell_type": "markdown",
   "metadata": {},
   "source": [
    "## Change in Net Income by Reform Option\n",
    "\n",
    "This chart shows how each reform option affects the household's net income relative to current law."
   ]
  },
  {
   "cell_type": "code",
   "execution_count": null,
   "metadata": {},
   "outputs": [],
   "source": "# Create DataFrame for change in net income\ndf_changes = pd.DataFrame({\"Employment Income\": employment_income})\nfor name, change in changes.items():\n    df_changes[name] = change\n\n# Melt for plotting\ndf_changes_melted = df_changes.melt(\n    id_vars=[\"Employment Income\"],\n    var_name=\"Reform Option\",\n    value_name=\"Change in Net Income\"\n)\n\n# Create the change in net income chart\nfig_changes = px.line(\n    df_changes_melted,\n    x=\"Employment Income\",\n    y=\"Change in Net Income\",\n    color=\"Reform Option\",\n    color_discrete_sequence=[BLUE_PRIMARY, DARK_GRAY, \"#4A90E2\", \"#FF6B6B\", \"#7B68EE\", \"#32CD32\"],\n    title=\"Change in Net Income by Reform Option<br>Elderly Married Couple with $30,000 in Social Security Benefits\",\n).update_layout(\n    font=dict(family=\"Roboto Serif\"),\n    xaxis_title=\"Employment Income ($)\",\n    yaxis_title=\"Change in Net Income ($)\",\n    xaxis_tickformat=\",\",\n    yaxis_tickformat=\",\",\n    font_color=BLACK,\n    margin={\"l\": 50, \"r\": 50, \"b\": 100, \"t\": 100, \"pad\": 4},\n    legend=dict(\n        yanchor=\"bottom\",\n        y=0.01,\n        xanchor=\"right\",\n        x=0.99\n    ),\n    annotations=[\n        {\n            \"x\": 1,\n            \"y\": -0.25,\n            \"xref\": \"paper\",\n            \"yref\": \"paper\",\n            \"text\": \"Source: PolicyEngine US\",\n            \"showarrow\": False,\n            \"font\": {\"family\": \"Roboto Serif\", \"size\": 10, \"color\": DARK_GRAY},\n        }\n    ],\n)\n\nfig_changes.show()"
  },
  {
   "cell_type": "markdown",
   "metadata": {},
   "source": [
    "## Net Income Comparison: All Reforms vs Baseline\n",
    "\n",
    "This chart compares the absolute net income levels under each reform option against current law."
   ]
  },
  {
   "cell_type": "code",
   "execution_count": null,
   "metadata": {},
   "outputs": [],
   "source": "# Create DataFrame for absolute net income comparison\ndf_comparison = pd.DataFrame({\n    \"Employment Income\": employment_income,\n    \"Baseline (Current Law)\": baseline_net_income\n})\n\nfor name, net_income in results.items():\n    df_comparison[name] = net_income\n\n# Melt for plotting\ndf_comparison_melted = df_comparison.melt(\n    id_vars=[\"Employment Income\"],\n    var_name=\"Scenario\",\n    value_name=\"Net Income\"\n)\n\n# Create the comparison chart\nfig_comparison = px.line(\n    df_comparison_melted,\n    x=\"Employment Income\",\n    y=\"Net Income\",\n    color=\"Scenario\",\n    color_discrete_map={\n        \"Baseline (Current Law)\": BLACK,\n        \"Option 1: Full Repeal\": BLUE_PRIMARY,\n        \"Option 2: Tax 85% of All SS\": DARK_GRAY,\n        \"Option 3: Tax 85% + Senior Deduction\": \"#4A90E2\",\n        \"Option 4: Tax 85% + $500 Credit\": \"#FF6B6B\",\n        \"Option 5: Roth-Style Swap\": \"#7B68EE\",\n        \"Option 6: Phased Roth Swap\": \"#32CD32\"\n    },\n    title=\"Net Income Under Each Reform Option vs Baseline<br>Elderly Married Couple with $30,000 in Social Security Benefits\",\n).update_layout(\n    font=dict(family=\"Roboto Serif\"),\n    xaxis_title=\"Employment Income ($)\",\n    yaxis_title=\"Net Income ($)\",\n    xaxis_tickformat=\",\",\n    yaxis_tickformat=\",\",\n    font_color=BLACK,\n    margin={\"l\": 50, \"r\": 50, \"b\": 100, \"t\": 100, \"pad\": 4},\n    legend=dict(\n        yanchor=\"top\",\n        y=0.99,\n        xanchor=\"left\",\n        x=0.01\n    ),\n    annotations=[\n        {\n            \"x\": 1,\n            \"y\": -0.25,\n            \"xref\": \"paper\",\n            \"yref\": \"paper\",\n            \"text\": \"Source: PolicyEngine US\",\n            \"showarrow\": False,\n            \"font\": {\"family\": \"Roboto Serif\", \"size\": 10, \"color\": DARK_GRAY},\n        }\n    ],\n)\n\nfig_comparison.show()"
  },
  {
   "cell_type": "markdown",
   "metadata": {},
   "source": [
    "## Focused View: $20,000-$80,000 Employment Income Range\n",
    "\n",
    "A closer look at the impact range where most differences between reforms are visible."
   ]
  },
  {
   "cell_type": "code",
   "execution_count": null,
   "metadata": {},
   "outputs": [],
   "source": "# Filter data for focused range ($20,000 to $80,000)\nstart_index = 40  # $20,000 / $500 = 40\nend_index = 161   # $80,000 / $500 = 160, +1 for inclusive\n\ndf_focused = pd.DataFrame({\n    \"Employment Income\": employment_income[start_index:end_index],\n    \"Baseline (Current Law)\": baseline_net_income[start_index:end_index]\n})\n\nfor name, net_income in results.items():\n    df_focused[name] = net_income[start_index:end_index]\n\n# Melt for plotting\ndf_focused_melted = df_focused.melt(\n    id_vars=[\"Employment Income\"],\n    var_name=\"Scenario\",\n    value_name=\"Net Income\"\n)\n\n# Create focused chart\nfig_focused = px.line(\n    df_focused_melted,\n    x=\"Employment Income\",\n    y=\"Net Income\",\n    color=\"Scenario\",\n    color_discrete_map={\n        \"Baseline (Current Law)\": BLACK,\n        \"Option 1: Full Repeal\": BLUE_PRIMARY,\n        \"Option 2: Tax 85% of All SS\": DARK_GRAY,\n        \"Option 3: Tax 85% + Senior Deduction\": \"#4A90E2\",\n        \"Option 4: Tax 85% + $500 Credit\": \"#FF6B6B\",\n        \"Option 5: Roth-Style Swap\": \"#7B68EE\",\n        \"Option 6: Phased Roth Swap\": \"#32CD32\"\n    },\n    title=\"Net Income Comparison (Employment Income: $20,000-$80,000)<br>Elderly Married Couple with $30,000 in Social Security Benefits\",\n).update_layout(\n    font=dict(family=\"Roboto Serif\"),\n    xaxis_title=\"Employment Income ($)\",\n    yaxis_title=\"Net Income ($)\",\n    xaxis_tickformat=\",\",\n    yaxis_tickformat=\",\",\n    font_color=BLACK,\n    margin={\"l\": 50, \"r\": 50, \"b\": 100, \"t\": 100, \"pad\": 4},\n    legend=dict(\n        yanchor=\"top\",\n        y=0.99,\n        xanchor=\"left\",\n        x=0.01\n    ),\n    annotations=[\n        {\n            \"x\": 1,\n            \"y\": -0.25,\n            \"xref\": \"paper\",\n            \"yref\": \"paper\",\n            \"text\": \"Source: PolicyEngine US\",\n            \"showarrow\": False,\n            \"font\": {\"family\": \"Roboto Serif\", \"size\": 10, \"color\": DARK_GRAY},\n        }\n    ],\n)\n\nfig_focused.show()"
  },
  {
   "cell_type": "markdown",
   "metadata": {},
   "source": [
    "## Summary Table: Impact at Key Income Levels"
   ]
  },
  {
   "cell_type": "code",
   "execution_count": null,
   "metadata": {},
   "outputs": [],
   "source": [
    "# Create summary table at key income levels\n",
    "key_incomes = [0, 25000, 50000, 75000, 100000, 150000, 200000]\n",
    "summary_data = []\n",
    "\n",
    "for income in key_incomes:\n",
    "    index = income // 500\n",
    "    row = {\"Employment Income\": f\"${income:,}\"}\n",
    "    for name, change in changes.items():\n",
    "        row[name.replace(\"Option \", \"Opt \")] = f\"${change[index]:,.0f}\"\n",
    "    summary_data.append(row)\n",
    "\n",
    "df_summary = pd.DataFrame(summary_data)\n",
    "display(Markdown(\"### Change in Net Income at Key Employment Income Levels\"))\n",
    "display(df_summary)"
   ]
  }
 ],
 "metadata": {
  "kernelspec": {
   "display_name": "Python 3",
   "language": "python",
   "name": "python3"
  },
  "language_info": {
   "codemirror_mode": {
    "name": "ipython",
    "version": 3
   },
   "file_extension": ".py",
   "mimetype": "text/x-python",
   "name": "python",
   "nbconvert_exporter": "python",
   "pygments_lexer": "ipython3",
   "version": "3.9.0"
  }
 },
 "nbformat": 4,
 "nbformat_minor": 4
}