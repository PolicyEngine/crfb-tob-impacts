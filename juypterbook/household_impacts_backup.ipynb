{
 "cells": [
  {
   "cell_type": "markdown",
   "metadata": {},
   "source": "# Household Impacts Analysis\n\nThis section analyzes the impact of each reform option on a representative elderly married couple household with \\$30,000 in Social Security benefits, examining how the reforms affect their net income across different employment income levels."
  },
  {
   "cell_type": "code",
   "execution_count": null,
   "metadata": {
    "tags": [
     "hide-input"
    ]
   },
   "outputs": [],
   "source": "from IPython.display import Markdown\nimport plotly.express as px\nimport plotly.graph_objects as go\nimport pandas as pd\nfrom policyengine_us import Simulation\nfrom policyengine_core.reforms import Reform\n\n# Define PolicyEngine's color palette\nBLACK = \"#000000\"\nBLUE_LIGHT = \"#D8E6F3\"\nBLUE_PRIMARY = \"#2C6496\"\nDARK_BLUE_HOVER = \"#1d3e5e\"\nDARK_GRAY = \"#616161\"\nDARKEST_BLUE = \"#0C1A27\"\nGRAY = \"#808080\"\nLIGHT_GRAY = \"#F2F2F2\"\nMEDIUM_DARK_GRAY = \"#D2D2D2\"\nMEDIUM_LIGHT_GRAY = \"#BDBDBD\"\nWHITE = \"#FFFFFF\""
  },
  {
   "cell_type": "markdown",
   "metadata": {},
   "source": "## Define Household Situation\n\nWe analyze an elderly married couple (both age 70) with \\$30,000 in Social Security retirement benefits, living in Florida. We examine how their net income changes across employment income levels from \\$0 to \\$200,000."
  },
  {
   "cell_type": "code",
   "execution_count": null,
   "metadata": {
    "tags": [
     "hide-input"
    ]
   },
   "outputs": [],
   "source": [
    "# Define the household situation\n",
    "situation = {\n",
    "  \"people\": {\n",
    "    \"you\": {\n",
    "      \"age\": {\n",
    "        \"2026\": 70\n",
    "      },\n",
    "      \"social_security_retirement\": {\n",
    "        \"2026\": 30000\n",
    "      }\n",
    "    },\n",
    "    \"your partner\": {\n",
    "      \"age\": {\n",
    "        \"2026\": 70\n",
    "      }\n",
    "    }\n",
    "  },\n",
    "  \"families\": {\n",
    "    \"your family\": {\n",
    "      \"members\": [\n",
    "        \"you\",\n",
    "        \"your partner\"\n",
    "      ]\n",
    "    }\n",
    "  },\n",
    "  \"marital_units\": {\n",
    "    \"your marital unit\": {\n",
    "      \"members\": [\n",
    "        \"you\",\n",
    "        \"your partner\"\n",
    "      ]\n",
    "    }\n",
    "  },\n",
    "  \"tax_units\": {\n",
    "    \"your tax unit\": {\n",
    "      \"members\": [\n",
    "        \"you\",\n",
    "        \"your partner\"\n",
    "      ]\n",
    "    }\n",
    "  },\n",
    "  \"spm_units\": {\n",
    "    \"your household\": {\n",
    "      \"members\": [\n",
    "        \"you\",\n",
    "        \"your partner\"\n",
    "      ]\n",
    "    }\n",
    "  },\n",
    "  \"households\": {\n",
    "    \"your household\": {\n",
    "      \"members\": [\n",
    "        \"you\",\n",
    "        \"your partner\"\n",
    "      ],\n",
    "      \"state_name\": {\n",
    "        \"2026\": \"FL\"\n",
    "      }\n",
    "    }\n",
    "  },\n",
    "  \"axes\": [\n",
    "    [\n",
    "      {\n",
    "        \"name\": \"employment_income\",\n",
    "        \"count\": 401,\n",
    "        \"min\": 0,\n",
    "        \"max\": 200000,\n",
    "        \"period\": \"2026\"\n",
    "      }\n",
    "    ]\n",
    "  ]\n",
    "}"
   ]
  },
  {
   "cell_type": "markdown",
   "metadata": {},
   "source": [
    "## Define Reform Options\n",
    "\n",
    "We analyze six different reform options for Social Security taxation:"
   ]
  },
  {
   "cell_type": "code",
   "execution_count": null,
   "metadata": {
    "tags": [
     "hide-input"
    ]
   },
   "outputs": [],
   "source": "# Option 1: Full Repeal of SS Taxation\nreform_option1 = Reform.from_dict({\n  \"gov.irs.social_security.taxability.rate.base\": {\n    \"2026-01-01.2100-12-31\": 0\n  },\n  \"gov.irs.social_security.taxability.rate.additional\": {\n    \"2026-01-01.2100-12-31\": 0\n  }\n}, country_id=\"us\")\n\n# Option 2: Tax 85% of All SS Benefits\nreform_option2 = Reform.from_dict({\n  \"gov.irs.social_security.taxability.rate.base\": {\n    \"2026-01-01.2100-12-31\": 0.85\n  },\n  \"gov.irs.social_security.taxability.threshold.base.main.JOINT\": {\n    \"2026-01-01.2100-12-31\": 0\n  },\n  \"gov.irs.social_security.taxability.threshold.base.main.SINGLE\": {\n    \"2026-01-01.2100-12-31\": 0\n  },\n  \"gov.irs.social_security.taxability.threshold.base.main.SEPARATE\": {\n    \"2026-01-01.2100-12-31\": 0\n  },\n  \"gov.irs.social_security.taxability.threshold.base.main.SURVIVING_SPOUSE\": {\n    \"2026-01-01.2100-12-31\": 0\n  },\n  \"gov.irs.social_security.taxability.threshold.base.main.HEAD_OF_HOUSEHOLD\": {\n    \"2026-01-01.2100-12-31\": 0\n  }\n}, country_id=\"us\")\n\n# Option 3: Tax 85% of All SS Benefits with Extended Senior Deduction\nreform_option3 = Reform.from_dict({\n  \"gov.irs.social_security.taxability.rate.base\": {\n    \"2026-01-01.2100-12-31\": 0.85\n  },\n  \"gov.irs.social_security.taxability.threshold.base.main.JOINT\": {\n    \"2026-01-01.2100-12-31\": 0\n  },\n  \"gov.irs.social_security.taxability.threshold.base.main.SINGLE\": {\n    \"2026-01-01.2100-12-31\": 0\n  },\n  \"gov.irs.social_security.taxability.threshold.base.main.SEPARATE\": {\n    \"2026-01-01.2100-12-31\": 0\n  },\n  \"gov.irs.social_security.taxability.threshold.base.main.SURVIVING_SPOUSE\": {\n    \"2026-01-01.2100-12-31\": 0\n  },\n  \"gov.irs.social_security.taxability.threshold.base.main.HEAD_OF_HOUSEHOLD\": {\n    \"2026-01-01.2100-12-31\": 0\n  },\n  \"gov.contrib.crfb.senior_deduction_extension.applies\": {\n    \"2026-01-01.2100-12-31\": True\n  }\n}, country_id=\"us\")\n\n# Option 4: Tax 85% of All SS Benefits with \\$500 Credit\nreform_option4 = Reform.from_dict({\n  \"gov.irs.social_security.taxability.rate.base\": {\n    \"2026-01-01.2100-12-31\": 0.85\n  },\n  \"gov.irs.social_security.taxability.threshold.base.main.JOINT\": {\n    \"2026-01-01.2100-12-31\": 0\n  },\n  \"gov.irs.social_security.taxability.threshold.base.main.SINGLE\": {\n    \"2026-01-01.2100-12-31\": 0\n  },\n  \"gov.irs.social_security.taxability.threshold.base.main.SEPARATE\": {\n    \"2026-01-01.2100-12-31\": 0\n  },\n  \"gov.irs.social_security.taxability.threshold.base.main.SURVIVING_SPOUSE\": {\n    \"2026-01-01.2100-12-31\": 0\n  },\n  \"gov.irs.social_security.taxability.threshold.base.main.HEAD_OF_HOUSEHOLD\": {\n    \"2026-01-01.2100-12-31\": 0\n  },\n  \"gov.contrib.crfb.ss_credit.in_effect\": {\n    \"2026-01-01.2100-12-31\": True\n  },\n  \"gov.contrib.crfb.ss_credit.amount.JOINT\": {\n    \"2026-01-01.2100-12-31\": 500\n  },\n  \"gov.contrib.crfb.ss_credit.amount.SINGLE\": {\n    \"2026-01-01.2100-12-31\": 500\n  },\n  \"gov.contrib.crfb.ss_credit.amount.SEPARATE\": {\n    \"2026-01-01.2100-12-31\": 500\n  },\n  \"gov.contrib.crfb.ss_credit.amount.SURVIVING_SPOUSE\": {\n    \"2026-01-01.2100-12-31\": 500\n  },\n  \"gov.contrib.crfb.ss_credit.amount.HEAD_OF_HOUSEHOLD\": {\n    \"2026-01-01.2100-12-31\": 500\n  }\n}, country_id=\"us\")\n\n# Option 5: Roth-Style Swap (Tax employer payroll, exempt SS benefits)\nreform_option5 = Reform.from_dict({\n  \"gov.irs.social_security.taxability.rate.base\": {\n    \"2026-01-01.2100-12-31\": 0\n  },\n  \"gov.irs.social_security.taxability.rate.additional\": {\n    \"2026-01-01.2100-12-31\": 0\n  },\n  \"gov.contrib.crfb.tax_employer_payroll_tax.in_effect\": {\n    \"2026-01-01.2100-12-31\": True\n  },\n  \"gov.contrib.crfb.tax_employer_payroll_tax.percentage\": {\n    \"2026-01-01.2100-12-31\": 1.0\n  }\n}, country_id=\"us\")\n\n# Option 6: Phased Roth-Style Swap\n# Year 1 of phase-in: 13% of employer contributions taxable (1% / 7.65%)\nreform_option6 = Reform.from_dict({\n  \"gov.contrib.crfb.tax_employer_payroll_tax.in_effect\": {\n    \"2026-01-01.2100-12-31\": True\n  },\n  \"gov.contrib.crfb.tax_employer_payroll_tax.percentage\": {\n    \"2026-01-01.2026-12-31\": 0.13,\n    \"2027-01-01.2027-12-31\": 0.26,\n    \"2028-01-01.2028-12-31\": 0.39\n  }\n  # Social Security benefits remain at current law in 2026-2028\n  # Phase-down of SS taxation begins in 2029 (not shown for 2026 analysis)\n}, country_id=\"us\")\n\nreforms = {\n    \"Option 1: Full Repeal\": reform_option1,\n    \"Option 2: Tax 85% of All SS\": reform_option2,\n    \"Option 3: Tax 85% + Senior Deduction\": reform_option3,\n    \"Option 4: Tax 85% + \\\\$500 Credit\": reform_option4,\n    \"Option 5: Roth-Style Swap\": reform_option5,\n    \"Option 6: Phased Roth Swap\": reform_option6\n}"
  },
  {
   "cell_type": "markdown",
   "metadata": {},
   "source": [
    "## Calculate Impact for Each Reform"
   ]
  },
  {
   "cell_type": "code",
   "execution_count": null,
   "metadata": {
    "tags": [
     "hide-input"
    ]
   },
   "outputs": [],
   "source": [
    "# Calculate baseline net income\n",
    "simulation_baseline = Simulation(situation=situation)\n",
    "baseline_net_income = simulation_baseline.calculate(\"household_net_income\", 2026)\n",
    "\n",
    "# Calculate reform impacts\n",
    "results = {}\n",
    "changes = {}\n",
    "\n",
    "for name, reform in reforms.items():\n",
    "    simulation_reform = Simulation(reform=reform, situation=situation)\n",
    "    reform_net_income = simulation_reform.calculate(\"household_net_income\", 2026)\n",
    "    results[name] = reform_net_income\n",
    "    changes[name] = reform_net_income - baseline_net_income\n",
    "\n",
    "# Create employment income array\n",
    "employment_income = [i * 500 for i in range(401)]"
   ]
  },
  {
   "cell_type": "markdown",
   "metadata": {},
   "source": [
    "## Option 1: Full Repeal of SS Taxation"
   ]
  },
  {
   "cell_type": "code",
   "execution_count": null,
   "metadata": {
    "tags": [
     "hide-input"
    ]
   },
   "outputs": [],
   "source": "# Option 1: Change in Net Income\ndf_option1_change = pd.DataFrame({\n    \"Employment Income\": employment_income,\n    \"Change in Net Income\": changes[\"Option 1: Full Repeal\"]\n})\n\nfig_option1_change = px.line(\n    df_option1_change,\n    x=\"Employment Income\",\n    y=\"Change in Net Income\",\n    color_discrete_sequence=[BLUE_PRIMARY],\n    title=\"Option 1: Full Repeal - Change in Net Income<br>Elderly Married Couple with \\\\$30,000 in Social Security Benefits\",\n).update_layout(\n    font=dict(family=\"Roboto Serif\"),\n    xaxis_title=\"Employment Income (\\\\$)\",\n    yaxis_title=\"Change in Net Income (\\\\$)\",\n    xaxis_tickformat=\",\",\n    yaxis_tickformat=\",\",\n    font_color=BLACK,\n    margin={\"l\": 50, \"r\": 50, \"b\": 100, \"t\": 100, \"pad\": 4},\n    annotations=[\n        {\n            \"x\": 1,\n            \"y\": -0.15,\n            \"xref\": \"paper\",\n            \"yref\": \"paper\",\n            \"text\": \"Source: PolicyEngine US\",\n            \"showarrow\": False,\n            \"font\": {\"family\": \"Roboto Serif\", \"size\": 10, \"color\": DARK_GRAY},\n        }\n    ],\n)\n\n# Save as static image and display\nfig_option1_change.write_image(\"option1_change.png\", width=800, height=500)\nfrom IPython.display import Image, display\ndisplay(Image(\"option1_change.png\"))"
  },
  {
   "cell_type": "markdown",
   "source": "![Option 1 Comparison Graph](option1_comparison.png)",
   "metadata": {}
  },
  {
   "cell_type": "markdown",
   "source": "![Option 1 Comparison Graph](option1_comparison.png)",
   "metadata": {}
  },
  {
   "cell_type": "markdown",
   "source": "![Option 3 Change Graph](option3_change.png)",
   "metadata": {}
  },
  {
   "cell_type": "markdown",
   "source": "![Option 4 Change Graph](option4_change.png)",
   "metadata": {}
  },
  {
   "cell_type": "markdown",
   "source": "![Option 2 Change Graph](option2_change.png)",
   "metadata": {}
  },
  {
   "cell_type": "markdown",
   "metadata": {},
   "source": [
    "## Option 3: Tax 85% + Senior Deduction"
   ]
  },
  {
   "cell_type": "markdown",
   "source": "![Option 2 Comparison Graph](option2_comparison.png)",
   "metadata": {}
  },
  {
   "cell_type": "code",
   "execution_count": null,
   "metadata": {
    "tags": [
     "hide-input"
    ]
   },
   "outputs": [],
   "source": "# Option 3: Reform vs Baseline Net Income\ndf_option3_comparison = pd.DataFrame({\n    \"Employment Income\": employment_income,\n    \"Baseline\": baseline_net_income,\n    \"Reform\": results[\"Option 3: Tax 85% + Senior Deduction\"]\n})\n\ndf_option3_melted = df_option3_comparison.melt(\n    id_vars=[\"Employment Income\"],\n    var_name=\"Scenario\",\n    value_name=\"Net Income\"\n)\n\nfig_option3_comparison = px.line(\n    df_option3_melted,\n    x=\"Employment Income\",\n    y=\"Net Income\",\n    color=\"Scenario\",\n    color_discrete_map={\"Baseline\": DARK_GRAY, \"Reform\": BLUE_PRIMARY},\n    title=\"Option 3: Tax 85% + Senior Deduction - Net Income Comparison<br>Elderly Married Couple with \\\\$30,000 in Social Security Benefits\",\n).update_layout(\n    font=dict(family=\"Roboto Serif\"),\n    xaxis_title=\"Employment Income (\\\\$)\",\n    yaxis_title=\"Net Income (\\\\$)\",\n    xaxis_tickformat=\",\",\n    yaxis_tickformat=\",\",\n    font_color=BLACK,\n    margin={\"l\": 50, \"r\": 50, \"b\": 100, \"t\": 100, \"pad\": 4},\n    legend=dict(yanchor=\"top\", y=0.99, xanchor=\"left\", x=0.01),\n    annotations=[\n        {\n            \"x\": 1,\n            \"y\": -0.15,\n            \"xref\": \"paper\",\n            \"yref\": \"paper\",\n            \"text\": \"Source: PolicyEngine US\",\n            \"showarrow\": False,\n            \"font\": {\"family\": \"Roboto Serif\", \"size\": 10, \"color\": DARK_GRAY},\n        }\n    ],\n)\n\nfig_option3_comparison.show()"
  },
  {
   "cell_type": "markdown",
   "metadata": {},
   "source": "## Option 4: Tax 85% + \\$500 Credit"
  },
  {
   "cell_type": "code",
   "execution_count": null,
   "metadata": {
    "tags": [
     "hide-input"
    ]
   },
   "outputs": [],
   "source": "# Option 5: Change in Net Income\ndf_option5_change = pd.DataFrame({\n    \"Employment Income\": employment_income,\n    \"Change in Net Income\": changes[\"Option 5: Roth-Style Swap\"]\n})\n\nfig_option5_change = px.line(\n    df_option5_change,\n    x=\"Employment Income\",\n    y=\"Change in Net Income\",\n    color_discrete_sequence=[BLUE_PRIMARY],\n    title=\"Option 5: Roth-Style Swap - Change in Net Income<br>Elderly Married Couple with \\\\$30,000 in Social Security Benefits\",\n).update_layout(\n    font=dict(family=\"Roboto Serif\"),\n    xaxis_title=\"Employment Income (\\\\$)\",\n    yaxis_title=\"Change in Net Income (\\\\$)\",\n    xaxis_tickformat=\",\",\n    yaxis_tickformat=\",\",\n    font_color=BLACK,\n    margin={\"l\": 50, \"r\": 50, \"b\": 100, \"t\": 100, \"pad\": 4},\n    annotations=[\n        {\n            \"x\": 1,\n            \"y\": -0.15,\n            \"xref\": \"paper\",\n            \"yref\": \"paper\",\n            \"text\": \"Source: PolicyEngine US\",\n            \"showarrow\": False,\n            \"font\": {\"family\": \"Roboto Serif\", \"size\": 10, \"color\": DARK_GRAY},\n        }\n    ],\n)\n\nfig_option5_change.show()"
  },
  {
   "cell_type": "markdown",
   "source": "![Option 3 Comparison Graph](option3_comparison.png)",
   "metadata": {}
  },
  {
   "cell_type": "code",
   "execution_count": null,
   "metadata": {
    "tags": [
     "hide-input"
    ]
   },
   "outputs": [],
   "source": "# Option 5: Reform vs Baseline Net Income\ndf_option5_comparison = pd.DataFrame({\n    \"Employment Income\": employment_income,\n    \"Baseline\": baseline_net_income,\n    \"Reform\": results[\"Option 5: Roth-Style Swap\"]\n})\n\ndf_option5_melted = df_option5_comparison.melt(\n    id_vars=[\"Employment Income\"],\n    var_name=\"Scenario\",\n    value_name=\"Net Income\"\n)\n\nfig_option5_comparison = px.line(\n    df_option5_melted,\n    x=\"Employment Income\",\n    y=\"Net Income\",\n    color=\"Scenario\",\n    color_discrete_map={\"Baseline\": DARK_GRAY, \"Reform\": BLUE_PRIMARY},\n    title=\"Option 5: Roth-Style Swap - Net Income Comparison<br>Elderly Married Couple with \\\\$30,000 in Social Security Benefits\",\n).update_layout(\n    font=dict(family=\"Roboto Serif\"),\n    xaxis_title=\"Employment Income (\\\\$)\",\n    yaxis_title=\"Net Income (\\\\$)\",\n    xaxis_tickformat=\",\",\n    yaxis_tickformat=\",\",\n    font_color=BLACK,\n    margin={\"l\": 50, \"r\": 50, \"b\": 100, \"t\": 100, \"pad\": 4},\n    legend=dict(yanchor=\"top\", y=0.99, xanchor=\"left\", x=0.01),\n    annotations=[\n        {\n            \"x\": 1,\n            \"y\": -0.15,\n            \"xref\": \"paper\",\n            \"yref\": \"paper\",\n            \"text\": \"Source: PolicyEngine US\",\n            \"showarrow\": False,\n            \"font\": {\"family\": \"Roboto Serif\", \"size\": 10, \"color\": DARK_GRAY},\n        }\n    ],\n)\n\nfig_option5_comparison.show()"
  },
  {
   "cell_type": "markdown",
   "source": "![Option 4 Comparison Graph](option4_comparison.png)",
   "metadata": {}
  },
  {
   "cell_type": "markdown",
   "source": "![Option 5 Change Graph](option5_change.png)",
   "metadata": {}
  },
  {
   "cell_type": "markdown",
   "source": "![Option 5 Comparison Graph](option5_comparison.png)",
   "metadata": {}
  },
  {
   "cell_type": "markdown",
   "metadata": {},
   "source": [
    "## Summary Table: Impact at Key Income Levels"
   ]
  },
  {
   "cell_type": "markdown",
   "source": "![Option 6 Change Graph](option6_change.png)",
   "metadata": {}
  },
  {
   "cell_type": "markdown",
   "source": "![Option 6 Comparison Graph](option6_comparison.png)",
   "metadata": {}
  }
 ],
 "metadata": {
  "kernelspec": {
   "display_name": "pe",
   "language": "python",
   "name": "python3"
  },
  "language_info": {
   "codemirror_mode": {
    "name": "ipython",
    "version": 3
   },
   "file_extension": ".py",
   "mimetype": "text/x-python",
   "name": "python",
   "nbconvert_exporter": "python",
   "pygments_lexer": "ipython3",
   "version": "3.12.10"
  }
 },
 "nbformat": 4,
 "nbformat_minor": 4
}