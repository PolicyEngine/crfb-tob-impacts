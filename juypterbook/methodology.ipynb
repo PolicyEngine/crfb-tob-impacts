{
 "cells": [
  {
   "cell_type": "markdown",
   "metadata": {},
   "source": [
    "# Methodology\n",
    "\n",
    "This chapter describes our analytical approach for estimating the budgetary impacts of Social Security benefit taxation reforms. We employ microsimulation modeling using PolicyEngine, an open-source platform that provides detailed estimates of policy changes on federal tax revenue and household-level impacts.\n",
    "\n",
    "## Microsimulation Framework\n",
    "\n",
    "### PolicyEngine Platform\n",
    "\n",
    "Our analysis uses PolicyEngine US, an open-source tax-benefit microsimulation model. PolicyEngine provides several advantages for this analysis:\n",
    "\n",
    "- **Comprehensive Tax Code Implementation**: Complete modeling of federal income tax provisions, including Social Security benefit taxation rules\n",
    "- **Current Data**: Based on the most recent enhanced Current Population Survey data (2024)\n",
    "- **Policy Flexibility**: Allows detailed specification of complex policy reforms\n",
    "- **Transparency**: Open-source codebase enables verification and replication\n",
    "- **Validation**: Regular benchmarking against official government estimates"
   ]
  },
  {
   "cell_type": "code",
   "execution_count": null,
   "metadata": {
    "tags": [
     "hide-input"
    ]
   },
   "outputs": [],
   "source": [
    "# Import necessary libraries and set up environment\n",
    "from policyengine_us import Microsimulation\n",
    "from policyengine_core.reforms import Reform\n",
    "import pandas as pd\n",
    "import numpy as np\n",
    "from IPython.display import display, Markdown, HTML\n",
    "import plotly.express as px\n",
    "import plotly.graph_objects as go\n",
    "import os\n",
    "import warnings\n",
    "\n",
    "# Define PolicyEngine's color palette\n",
    "BLACK = \"#000000\"\n",
    "BLUE_LIGHT = \"#D8E6F3\"\n",
    "BLUE_PRIMARY = \"#2C6496\"\n",
    "DARK_GRAY = \"#616161\"\n",
    "LIGHT_GRAY = \"#F2F2F2\"\n",
    "WHITE = \"#FFFFFF\"\n",
    "\n",
    "# Suppress warnings for clean output\n",
    "warnings.filterwarnings('ignore')\n",
    "\n",
    "print(\"PolicyEngine libraries loaded successfully!\")"
   ]
  },
  {
   "cell_type": "markdown",
   "source": "This code cell sets up the computational environment by importing all necessary Python libraries for the microsimulation analysis. It loads PolicyEngine for tax calculations, Pandas and NumPy for data manipulation, and Plotly for visualization. The cell also defines PolicyEngine's standard color palette for consistent formatting throughout the analysis.",
   "metadata": {}
  },
  {
   "cell_type": "markdown",
   "metadata": {},
   "source": [
    "## Policy Implementation\n",
    "\n",
    "### Reform Specification\n",
    "\n",
    "Each policy option is implemented through PolicyEngine's reform system, which allows precise specification of tax rate changes, threshold modifications, deduction changes, credit implementation, and phase-in schedules.\n",
    "\n",
    "Below are the reform functions for each policy option:"
   ]
  },
  {
   "cell_type": "markdown",
   "source": "These functions define the six policy reform options analyzed in this study. Each function returns a PolicyEngine Reform object that specifies the exact parameter changes needed to implement the policy. The reforms modify Social Security taxability rates, income thresholds, deduction amounts, and credit values according to each option's specifications.",
   "metadata": {}
  },
  {
   "cell_type": "code",
   "execution_count": null,
   "metadata": {
    "tags": [
     "hide-input"
    ]
   },
   "outputs": [],
   "source": "# Define reform functions for all policy options\n\ndef get_option1_reform():\n    \"\"\"Option 1: Full Repeal of Social Security Benefits Taxation\"\"\"\n    return Reform.from_dict({\n        \"gov.irs.social_security.taxability.rate.base\": {\n            \"2026-01-01.2100-12-31\": 0\n        },\n        \"gov.irs.social_security.taxability.rate.additional\": {\n            \"2026-01-01.2100-12-31\": 0\n        }\n    }, country_id=\"us\")\n\ndef get_option2_reform():\n    \"\"\"Option 2: Taxation of 85% of Social Security Benefits\"\"\"\n    return Reform.from_dict({\n        \"gov.irs.social_security.taxability.rate.base\": {\n            \"2026-01-01.2100-12-31\": 0.85\n        },\n        \"gov.irs.social_security.taxability.threshold.base.main.JOINT\": {\n            \"2026-01-01.2100-12-31\": 0\n        },\n        \"gov.irs.social_security.taxability.threshold.base.main.SINGLE\": {\n            \"2026-01-01.2100-12-31\": 0\n        },\n        \"gov.irs.social_security.taxability.threshold.base.main.SEPARATE\": {\n            \"2026-01-01.2100-12-31\": 0\n        },\n        \"gov.irs.social_security.taxability.threshold.base.main.SURVIVING_SPOUSE\": {\n            \"2026-01-01.2100-12-31\": 0\n        },\n        \"gov.irs.social_security.taxability.threshold.base.main.HEAD_OF_HOUSEHOLD\": {\n            \"2026-01-01.2100-12-31\": 0\n        }\n    }, country_id=\"us\")\n\ndef get_option3_reform():\n    \"\"\"Option 3: 85% Taxation with Permanent Senior Deduction Extension\"\"\"\n    return Reform.from_dict({\n        \"gov.irs.social_security.taxability.rate.base\": {\n            \"2026-01-01.2100-12-31\": 0.85\n        },\n        \"gov.irs.social_security.taxability.threshold.base.main.JOINT\": {\n            \"2026-01-01.2100-12-31\": 0\n        },\n        \"gov.irs.social_security.taxability.threshold.base.main.SINGLE\": {\n            \"2026-01-01.2100-12-31\": 0\n        },\n        \"gov.irs.social_security.taxability.threshold.base.main.SEPARATE\": {\n            \"2026-01-01.2100-12-31\": 0\n        },\n        \"gov.irs.social_security.taxability.threshold.base.main.SURVIVING_SPOUSE\": {\n            \"2026-01-01.2100-12-31\": 0\n        },\n        \"gov.irs.social_security.taxability.threshold.base.main.HEAD_OF_HOUSEHOLD\": {\n            \"2026-01-01.2100-12-31\": 0\n        },\n        \"gov.contrib.crfb.senior_deduction_extension.applies\": {\n            \"2026-01-01.2100-12-31\": True\n        }\n    }, country_id=\"us\")\n\ndef get_option4_reform():\n    \"\"\"Option 4: Social Security Tax Credit System (\\$500 Credit)\"\"\"\n    return Reform.from_dict({\n        \"gov.irs.social_security.taxability.rate.base\": {\n            \"2026-01-01.2100-12-31\": 0.85\n        },\n        \"gov.irs.social_security.taxability.threshold.base.main.JOINT\": {\n            \"2026-01-01.2100-12-31\": 0\n        },\n        \"gov.irs.social_security.taxability.threshold.base.main.SINGLE\": {\n            \"2026-01-01.2100-12-31\": 0\n        },\n        \"gov.irs.social_security.taxability.threshold.base.main.SEPARATE\": {\n            \"2026-01-01.2100-12-31\": 0\n        },\n        \"gov.irs.social_security.taxability.threshold.base.main.SURVIVING_SPOUSE\": {\n            \"2026-01-01.2100-12-31\": 0\n        },\n        \"gov.irs.social_security.taxability.threshold.base.main.HEAD_OF_HOUSEHOLD\": {\n            \"2026-01-01.2100-12-31\": 0\n        },\n        \"gov.contrib.crfb.ss_credit.in_effect\": {\n            \"2026-01-01.2100-12-31\": True\n        },\n        \"gov.contrib.crfb.ss_credit.amount.JOINT\": {\n            \"2026-01-01.2100-12-31\": 500\n        },\n        \"gov.contrib.crfb.ss_credit.amount.SINGLE\": {\n            \"2026-01-01.2100-12-31\": 500\n        },\n        \"gov.contrib.crfb.ss_credit.amount.SEPARATE\": {\n            \"2026-01-01.2100-12-31\": 500\n        },\n        \"gov.contrib.crfb.ss_credit.amount.SURVIVING_SPOUSE\": {\n            \"2026-01-01.2100-12-31\": 500\n        },\n        \"gov.contrib.crfb.ss_credit.amount.HEAD_OF_HOUSEHOLD\": {\n            \"2026-01-01.2100-12-31\": 500\n        },\n        \"gov.irs.deductions.senior_deduction.amount\": {\n            \"2026-01-01.2100-12-31\": 0\n        }\n    }, country_id=\"us\")\n\ndef get_option5_reform():\n    \"\"\"Option 5: Roth-Style Swap\"\"\"\n    return Reform.from_dict({\n        \"gov.irs.social_security.taxability.rate.base\": {\n            \"2026-01-01.2100-12-31\": 0\n        },\n        \"gov.irs.social_security.taxability.rate.additional\": {\n            \"2026-01-01.2100-12-31\": 0\n        },\n        \"gov.contrib.crfb.tax_employer_payroll_tax.in_effect\": {\n            \"2026-01-01.2100-12-31\": True\n        },\n        \"gov.contrib.crfb.tax_employer_payroll_tax.percentage\": {\n            \"2026-01-01.2100-12-31\": 1.0\n        }\n    }, country_id=\"us\")\n\ndef get_option6_reform():\n    \"\"\"Option 6: Phased Roth-Style Swap\"\"\"\n    reform_dict = {\n        \"gov.contrib.crfb.tax_employer_payroll_tax.in_effect\": {\n            \"2026-01-01.2100-12-31\": True\n        },\n        \"gov.contrib.crfb.tax_employer_payroll_tax.percentage\": {\n            \"2026-01-01.2026-12-31\": 0.1307,\n            \"2027-01-01.2027-12-31\": 0.2614,\n            \"2028-01-01.2028-12-31\": 0.3922,\n            \"2029-01-01.2029-12-31\": 0.5229,\n            \"2030-01-01.2030-12-31\": 0.6536,\n            \"2031-01-01.2031-12-31\": 0.7843,\n            \"2032-01-01.2032-12-31\": 0.9150,\n            \"2033-01-01.2100-12-31\": 1.0\n        },\n        \"gov.irs.social_security.taxability.rate.base\": {\n            \"2029-01-01.2029-12-31\": 0.45,\n            \"2030-01-01.2030-12-31\": 0.40,\n            \"2031-01-01.2031-12-31\": 0.35,\n            \"2032-01-01.2032-12-31\": 0.30,\n            \"2033-01-01.2033-12-31\": 0.25,\n            \"2034-01-01.2034-12-31\": 0.20,\n            \"2035-01-01.2035-12-31\": 0.15,\n            \"2036-01-01.2036-12-31\": 0.10,\n            \"2037-01-01.2037-12-31\": 0.05,\n            \"2038-01-01.2100-12-31\": 0\n        },\n        \"gov.irs.social_security.taxability.rate.additional\": {\n            \"2029-01-01.2029-12-31\": 0.80,\n            \"2030-01-01.2030-12-31\": 0.75,\n            \"2031-01-01.2031-12-31\": 0.70,\n            \"2032-01-01.2032-12-31\": 0.65,\n            \"2033-01-01.2033-12-31\": 0.60,\n            \"2034-01-01.2034-12-31\": 0.55,\n            \"2035-01-01.2035-12-31\": 0.50,\n            \"2036-01-01.2036-12-31\": 0.45,\n            \"2037-01-01.2037-12-31\": 0.40,\n            \"2038-01-01.2038-12-31\": 0.35,\n            \"2039-01-01.2039-12-31\": 0.30,\n            \"2040-01-01.2040-12-31\": 0.25,\n            \"2041-01-01.2041-12-31\": 0.20,\n            \"2042-01-01.2042-12-31\": 0.15,\n            \"2043-01-01.2043-12-31\": 0.10,\n            \"2044-01-01.2044-12-31\": 0.05,\n            \"2045-01-01.2100-12-31\": 0\n        }\n    }\n    return Reform.from_dict(reform_dict, country_id=\"us\")\n\nprint(\"Policy reform functions defined successfully!\")"
  },
  {
   "cell_type": "markdown",
   "source": "This function calculates the budgetary impact of a policy reform for a specific year. It compares tax revenue under the baseline (current law) versus the reform scenario using the pre-computed baseline to improve computational efficiency. The function returns the impact in billions of dollars, where negative values represent costs and positive values represent savings.",
   "metadata": {}
  },
  {
   "cell_type": "markdown",
   "source": "This computational step pre-calculates the baseline (current law) tax liabilities for all analysis years (2026-2035). By computing these baselines once and reusing them for all policy options, we significantly improve computational efficiency while ensuring consistent comparison across all reforms.",
   "metadata": {}
  },
  {
   "cell_type": "markdown",
   "source": "This is the main calculation engine that processes each of the six policy options across all analysis years. For each option-year combination, it calculates the budgetary impact and stores the results in a structured format. The code also computes 10-year totals for each policy option, providing the key summary statistics for the analysis.",
   "metadata": {}
  },
  {
   "cell_type": "markdown",
   "source": "This function generates the comprehensive policy impacts report by formatting the calculated results into markdown tables and detailed analysis. It creates both summary tables showing 10-year totals and year-by-year breakdowns, then writes the complete analysis to the `policy_impacts.md` file that forms the next chapter of this study.",
   "metadata": {}
  },
  {
   "cell_type": "markdown",
   "metadata": {},
   "source": "## Data and Technical Framework\n\n### Data Foundation\nThe microsimulation uses the Enhanced Current Population Survey (CPS) for 2024, providing a nationally representative sample of approximately 160,000 individuals in 60,000 households. The survey captures detailed income sources including wages, Social Security benefits, pensions, and demographics such as age, filing status, and state of residence.\n\n### PolicyEngine Tax Calculator\nPolicyEngine implements comprehensive federal tax provisions including income tax brackets, deductions, Social Security benefit taxation rules, senior deduction provisions, credits, and Alternative Minimum Tax calculations. The analysis uses the latest stable release with Python 3.10+ and standard data processing libraries.\n\n## Methodology Notes and Limitations\n\n### Static Analysis Assumptions\nThis analysis uses static microsimulation without modeling behavioral responses, labor supply changes, or economic growth effects. We assume full compliance with new tax provisions, no administrative costs, and current law economic assumptions for inflation and wage growth.\n\n### Key Limitations\n- Survey data may underrepresent very high-income households and some income sources may be underreported\n- No interaction with state tax systems is modeled\n- Sample size limits precision for small subgroups\n- No macroeconomic feedback effects from policy changes are captured"
  },
  {
   "cell_type": "code",
   "execution_count": null,
   "metadata": {
    "tags": [
     "hide-input"
    ]
   },
   "outputs": [],
   "source": [
    "# Pre-compute baselines for all years to avoid redundant calculations\n",
    "print(\"Pre-computing baselines for all years...\")\n",
    "baselines = {}\n",
    "years = list(range(2026, 2036))\n",
    "\n",
    "for year in years:\n",
    "    print(f\"  Computing baseline for {year}...\")\n",
    "    baseline = Microsimulation(dataset=\"hf://policyengine/policyengine-us-data/enhanced_cps_2024.h5\")\n",
    "    baseline_income_tax = baseline.calculate(\"income_tax\", map_to=\"household\", period=year)\n",
    "    baselines[year] = baseline_income_tax\n",
    "    \n",
    "print(\"Baseline computation complete!\\n\")"
   ]
  },
  {
   "cell_type": "code",
   "execution_count": null,
   "metadata": {
    "tags": [
     "hide-input"
    ]
   },
   "outputs": [],
   "source": "# Function to write results to policy_impacts.md\ndef write_results_to_markdown():\n    \"\"\"\n    Write the calculated results to policy_impacts.md file\n    \"\"\"\n    \n    # Prepare the summary table\n    summary_data = [\n        {\"Policy Option\": \"**Option 1**: Full Repeal\", \"10-Year Impact (Billions)\": f\"\\\\${totals['Option 1']:.1f}\"},\n        {\"Policy Option\": \"**Option 2**: 85% Taxation\", \"10-Year Impact (Billions)\": f\"\\\\${totals['Option 2']:.1f}\"},\n        {\"Policy Option\": \"**Option 3**: 85% with Senior Deduction\", \"10-Year Impact (Billions)\": f\"\\\\${totals['Option 3']:.1f}\"},\n        {\"Policy Option\": \"**Option 4**: Tax Credit (\\\\$500)\", \"10-Year Impact (Billions)\": f\"\\\\${totals['Option 4']:.1f}\"},\n        {\"Policy Option\": \"**Option 5**: Roth-Style Swap\", \"10-Year Impact (Billions)\": f\"\\\\${totals['Option 5']:.1f}\"},\n        {\"Policy Option\": \"**Option 6**: Phased Roth-Style\", \"10-Year Impact (Billions)\": f\"\\\\${totals['Option 6']:.1f}\"}\n    ]\n    \n    # Create markdown tables manually to avoid tabulate dependency issues\n    \n    # Summary table\n    summary_table = \"| Policy Option | 10-Year Impact (Billions) |\\\\n|---|---|\\\\n\"\n    for item in summary_data:\n        summary_table += f\"| {item['Policy Option']} | {item['10-Year Impact (Billions)']} |\\\\n\"\n    \n    # Year-by-year table with totals\n    yearly_table = \"| Year | Option 1 | Option 2 | Option 3 | Option 4 | Option 5 | Option 6 |\\\\n\"\n    yearly_table += \"|------|----------|----------|----------|----------|----------|----------|\\\\n\"\n    \n    # Add yearly data\n    for i, year in enumerate(yearly_data['Year']):\n        yearly_table += f\"| {year} | \\\\${yearly_data['Option 1'][i]:.1f} | \\\\${yearly_data['Option 2'][i]:.1f} | \\\\${yearly_data['Option 3'][i]:.1f} | \\\\${yearly_data['Option 4'][i]:.1f} | \\\\${yearly_data['Option 5'][i]:.1f} | \\\\${yearly_data['Option 6'][i]:.1f} |\\\\n\"\n    \n    # Add totals row\n    yearly_table += f\"| **2026-2035 Total** | **\\\\${totals['Option 1']:.1f}** | **\\\\${totals['Option 2']:.1f}** | **\\\\${totals['Option 3']:.1f}** | **\\\\${totals['Option 4']:.1f}** | **\\\\${totals['Option 5']:.1f}** | **\\\\${totals['Option 6']:.1f}** |\\\\n\"\n    \n    # Determine if values are positive or negative for proper description\n    def format_impact(value):\n        if value < 0:\n            return f\"-\\\\${abs(value):.1f} billion\"\n        else:\n            return f\"\\\\${value:.1f} billion\"\n    \n    # Write the complete markdown file\n    content = f\"\"\"# Policy Impacts\n\nThis chapter presents the quantitative results of the analysis of six Social Security benefit taxation reform options. All estimates represent changes in federal tax revenue over the 10-year period 2026-2035, measured in billions of dollars. Negative values indicate revenue decreases, while positive values indicate revenue increases.\n\n## Summary of 10-Year Budgetary Impacts\n\nThe microsimulation analysis shows the following budgetary impacts across the six policy options:\n\n{summary_table}\n\n## Year-by-Year Federal Budgetary Impact (2026-2035)\n\n**Federal Budgetary Impact by Year (Billions of Dollars)**\n\n{yearly_table}\n\n## Detailed Results by Policy Option\n\n### Option 1: Full Repeal of Social Security Benefits Taxation\n\n**10-Year Impact: {format_impact(totals['Option 1'])}**\n\nThis option eliminates all federal income taxation of Social Security benefits. The revenue impact changes over time due to:\n- Changes in the number of Social Security beneficiaries\n- Changes in benefit levels\n- Expiration of senior deduction in 2029\n\n### Option 2: Taxation of 85% of Social Security Benefits\n\n**10-Year Impact: {format_impact(totals['Option 2'])}**\n\nThis option taxes 85% of Social Security benefits for all recipients. The results show that expanding taxation to all beneficiaries at 85% does not offset the revenue change from eliminating income thresholds under the current senior deduction structure.\n\n### Option 3: 85% Taxation with Permanent Senior Deduction Extension\n\n**10-Year Impact: {format_impact(totals['Option 3'])}**\n\nThis option taxes 85% of Social Security benefits while permanently extending the senior deduction. The change after 2028 reflects the interaction between expanded benefit taxation and the permanent senior deduction.\n\n### Option 4: Social Security Tax Credit System (\\\\$500 Credit)\n\n**10-Year Impact: {format_impact(totals['Option 4'])}**\n\nThis option implements a \\\\$500 tax credit while expanding the taxation base to 85% of all benefits. The change after 2028 reflects the interaction between the credit system and the expiration of the senior deduction.\n\n### Option 5: Roth-Style Swap\n\n**10-Year Impact: {format_impact(totals['Option 5'])}**\n\nThis option replaces benefit taxation with employer payroll contribution taxation. The revenue impact changes over time as the difference between benefit taxation revenue and employer contribution taxation revenue evolves.\n\n### Option 6: Phased Roth-Style Swap\n\n**10-Year Impact: {format_impact(totals['Option 6'])}**\n\nThis option implements a phased transition that includes:\n- Gradual reduction of benefit taxation revenue\n- Gradual increase of employer contribution taxation\n- Extended transition period\n\n## Key Findings\n\n### Revenue Impact Ranking\n\nFrom smallest to largest absolute revenue impact:\n1. **Option 3**: {format_impact(totals['Option 3'])}\n2. **Option 4**: {format_impact(totals['Option 4'])}\n3. **Option 2**: {format_impact(totals['Option 2'])}\n4. **Option 5**: {format_impact(totals['Option 5'])}\n5. **Option 1**: {format_impact(totals['Option 1'])}\n6. **Option 6**: {format_impact(totals['Option 6'])}\n\n### Impact of Senior Deduction Expiration\n\nThe scheduled 2028 expiration of the senior deduction affects the revenue patterns of several options:\n\n- **Options 1, 5, 6**: Revenue impacts change after 2028\n- **Option 2**: Revenue pattern changes after 2028\n- **Option 3**: Different pattern due to permanent extension\n- **Option 4**: Credit interacts with deduction expiration\n\n### Policy Design Observations\n\n1. **Tax Credit**: The \\\\$500 tax credit option combines a credit with expanded benefit taxation.\n\n2. **Roth-Style Swap**: The analysis shows different revenue impacts between benefit taxation and employer payroll contribution taxation.\n\n3. **Phase-in Effects**: Gradual implementation (Option 6) produces different revenue patterns than immediate implementation (Option 5).\n\n4. **Senior Deduction**: The permanent senior deduction extension (Option 3) affects the net revenue impact of expanded benefit taxation.\n\n## Distributional Considerations\n\nThe analysis focuses on aggregate budgetary impacts. The distributional effects vary by option:\n\n- **Option 1**: Affects all current Social Security recipients\n- **Options 2 & 3**: Changes tax treatment for beneficiaries currently below thresholds\n- **Option 4**: Implements a credit for Social Security recipients\n- **Options 5 & 6**: Changes the tax treatment between retirees and current workers\n\n## Methodology Notes\n\nThese estimates are based on static microsimulation analysis and do not account for:\n- Behavioral responses to tax changes\n- Economic growth effects\n- Administrative implementation costs\n- State tax interactions\n\nThe results are presented for comparison with estimates from other analytical sources in the next chapter.\"\"\"\n    \n    # Write to file\n    with open('policy_impacts.md', 'w') as f:\n        f.write(content)\n    \n    print(\"Results successfully written to policy_impacts.md\")\n    return content\n\n# Execute the function to write results\nmarkdown_content = write_results_to_markdown()"
  },
  {
   "cell_type": "markdown",
   "metadata": {},
   "source": [
    "## Calculation Methodology\n",
    "\n",
    "### Annual Impact Estimation\n",
    "\n",
    "For each policy option and year (2026-2035), we calculate:\n",
    "\n",
    "1. **Baseline Revenue**: Federal income tax revenue under current law\n",
    "2. **Reform Revenue**: Federal income tax revenue under the policy reform\n",
    "3. **Budgetary Impact**: Difference between baseline and reform revenue\n",
    "\n",
    "The impact is calculated as: `Impact = Baseline Revenue - Reform Revenue`\n",
    "\n",
    "- **Negative values** indicate costs (revenue loss)\n",
    "- **Positive values** indicate savings (revenue gain)"
   ]
  },
  {
   "cell_type": "markdown",
   "metadata": {},
   "source": [
    "## Data Foundation\n",
    "\n",
    "### Enhanced Current Population Survey\n",
    "\n",
    "The microsimulation is based on the Enhanced Current Population Survey (CPS) for 2024:\n",
    "\n",
    "- **Sample Size**: Approximately 160,000 individuals in 60,000 households\n",
    "- **Representative Coverage**: Nationally representative sample weighted to match U.S. population\n",
    "- **Income Sources**: Detailed information on wages, Social Security benefits, pensions, and other income\n",
    "- **Demographics**: Age, filing status, state of residence, and other relevant characteristics\n",
    "- **Enhancement**: Survey data enhanced with statistical matching to capture income and benefit details\n",
    "\n",
    "### Tax Calculator Engine\n",
    "\n",
    "PolicyEngine's tax calculator implements current law provisions including:\n",
    "\n",
    "- Federal income tax brackets and rates\n",
    "- Standard and itemized deductions\n",
    "- Social Security benefit taxation rules (current two-tier system)\n",
    "- Senior deduction provisions\n",
    "- Credits and other tax preferences\n",
    "- Alternative Minimum Tax calculations"
   ]
  },
  {
   "cell_type": "markdown",
   "metadata": {},
   "source": [
    "## Technical Specifications\n",
    "\n",
    "### Software Environment\n",
    "\n",
    "- **PolicyEngine Version**: Latest stable release (2024)\n",
    "- **Python Version**: 3.10+\n",
    "- **Key Dependencies**: NumPy, Pandas for data processing\n",
    "- **Computational Resources**: Analysis performed on standard computing environment\n",
    "\n",
    "### Data Processing\n",
    "\n",
    "The analysis workflow includes:\n",
    "\n",
    "1. **Baseline Calculation**: Pre-compute baseline tax liabilities for all years\n",
    "2. **Reform Implementation**: Apply policy changes through PolicyEngine reform system\n",
    "3. **Impact Calculation**: Calculate difference between reform and baseline scenarios\n",
    "4. **Quality Assurance**: Validate results against known benchmarks\n",
    "5. **Output Generation**: Format results for analysis and presentation"
   ]
  },
  {
   "cell_type": "markdown",
   "metadata": {},
   "source": [
    "## Limitations and Assumptions\n",
    "\n",
    "### Static Analysis\n",
    "\n",
    "Our analysis uses static microsimulation, meaning:\n",
    "- No behavioral responses to tax changes are modeled\n",
    "- Labor supply, retirement timing, and benefit claiming decisions held constant\n",
    "- Savings and investment responses not captured\n",
    "- Economic growth effects not included\n",
    "\n",
    "### Data Limitations\n",
    "\n",
    "The Enhanced CPS data has several limitations:\n",
    "- Survey data may underrepresent very high-income households\n",
    "- Some income sources may be underreported\n",
    "- Administrative data matching not available for all variables\n",
    "- Sample size limits precision for small subgroups\n",
    "\n",
    "### Policy Implementation\n",
    "\n",
    "Our policy implementations make several assumptions:\n",
    "- Full compliance with new tax provisions\n",
    "- No administrative costs or implementation delays\n",
    "- Perfect information and understanding by taxpayers\n",
    "- No interaction with state tax systems\n",
    "\n",
    "### Economic Assumptions\n",
    "\n",
    "The analysis assumes:\n",
    "- Current law economic assumptions (inflation, wage growth)\n",
    "- No macroeconomic feedback effects from policy changes\n",
    "- Stable demographic and benefit program parameters\n",
    "- No changes to Social Security benefit levels or eligibility"
   ]
  }
 ],
 "metadata": {
  "kernelspec": {
   "display_name": "pe",
   "language": "python",
   "name": "python3"
  },
  "language_info": {
   "name": "python",
   "version": "3.12.10"
  }
 },
 "nbformat": 4,
 "nbformat_minor": 4
}